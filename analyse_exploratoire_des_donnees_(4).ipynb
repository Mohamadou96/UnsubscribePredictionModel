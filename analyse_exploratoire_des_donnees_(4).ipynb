{
 "cells": [
  {
   "cell_type": "markdown",
   "id": "845d9b1d",
   "metadata": {
    "id": "62d875ac-ec32-4b80-a49e-37805e119571",
    "tags": []
   },
   "source": [
    "### Importation des librairies\n",
    "\n",
    "Dans la premiere partie nous auons besoin des librairies suivantes:\n",
    "* Numpy: Cette librairie permet de manpuler les donnees sous forme de vecteur et de matrices\n",
    "* Pandas : Cette librairie permet de manipuler notre jeu de donnees \n",
    "* seaborn et matplotlib nous permettent de representer certaines informations sous forme de visuels"
   ]
  },
  {
   "cell_type": "code",
   "execution_count": 1,
   "id": "3f9b6785",
   "metadata": {
    "id": "d1e8c26a-28a8-4b21-9b3f-a8a1e90dc1d1"
   },
   "outputs": [],
   "source": [
    "\n",
    "import numpy as np\n",
    "import pandas as pd\n",
    "import seaborn as sns\n",
    "import matplotlib.pyplot as plt\n",
    "import sklearn.model_selection\n",
    "import sklearn.metrics\n",
    "import sklearn.neural_network\n",
    "from sklearn.linear_model import LogisticRegression as LGR\n",
    "import joblib"
   ]
  },
  {
   "cell_type": "markdown",
   "id": "1fc7f4f9",
   "metadata": {
    "id": "ac7a723a"
   },
   "source": [
    "### Chargement du jeu donnees\n",
    "\n",
    "Dans cette partie , nous allons charger notre jeu de donnee a partir du chemin d'un chemin d'acces. Pour cela nous allons utiliser la fonction read_csv de la librairie Pandas. Cette fonction d'utilise comme suit: \n",
    "dataset= pd.pd.read_csv(path , sep, header)\n",
    "\n",
    "* dataset est la variable qui va contenir notre jeu de donnees\n",
    "* pd est un objet de la librairie pandas qui nous permet de manipuler les fonctions de la dite librairie\n",
    "* path est le chemin d'access de notre dataset et est un attribut obligatoire\n",
    "* sep qui est un attribut optionnel qui peut prendre plusieurs valeurs\n",
    "* header qui est un attribut optionnel "
   ]
  },
  {
   "cell_type": "code",
   "execution_count": 2,
   "id": "5a218fef",
   "metadata": {
    "id": "0557e214-d157-454e-a949-4edaf9fbabba"
   },
   "outputs": [],
   "source": [
    "dataset_custumer = pd.read_csv('Telco-Customer.csv')"
   ]
  },
  {
   "cell_type": "markdown",
   "id": "f8b49829",
   "metadata": {
    "id": "2d40ff06"
   },
   "source": [
    "Nous allons utiliser la fonction head et tail de la librairie pandas pour afficher respectivement les premiers et derniers elements de notre jeu de donnees"
   ]
  },
  {
   "cell_type": "code",
   "execution_count": 3,
   "id": "22fdd4d4",
   "metadata": {
    "id": "c8a8dc9a-e4ae-46d4-a9ea-2b99b6ca2766",
    "outputId": "caf36143-9e84-4235-d1a6-6fa7aaf261e6"
   },
   "outputs": [
    {
     "name": "stdout",
     "output_type": "stream",
     "text": [
      "   customerID  gender  SeniorCitizen Partner Dependents  tenure PhoneService  \\\n",
      "0  7590-VHVEG  Female              0     Yes         No       1           No   \n",
      "1  5575-GNVDE    Male              0      No         No      34          Yes   \n",
      "2  3668-QPYBK    Male              0      No         No       2          Yes   \n",
      "3  7795-CFOCW    Male              0      No         No      45           No   \n",
      "4  9237-HQITU  Female              0      No         No       2          Yes   \n",
      "\n",
      "      MultipleLines InternetService OnlineSecurity  ... DeviceProtection  \\\n",
      "0  No phone service             DSL             No  ...               No   \n",
      "1                No             DSL            Yes  ...              Yes   \n",
      "2                No             DSL            Yes  ...               No   \n",
      "3  No phone service             DSL            Yes  ...              Yes   \n",
      "4                No     Fiber optic             No  ...               No   \n",
      "\n",
      "  TechSupport StreamingTV StreamingMovies        Contract PaperlessBilling  \\\n",
      "0          No          No              No  Month-to-month              Yes   \n",
      "1          No          No              No        One year               No   \n",
      "2          No          No              No  Month-to-month              Yes   \n",
      "3         Yes          No              No        One year               No   \n",
      "4          No          No              No  Month-to-month              Yes   \n",
      "\n",
      "               PaymentMethod MonthlyCharges  TotalCharges Churn  \n",
      "0           Electronic check          29.85         29.85    No  \n",
      "1               Mailed check          56.95        1889.5    No  \n",
      "2               Mailed check          53.85        108.15   Yes  \n",
      "3  Bank transfer (automatic)          42.30       1840.75    No  \n",
      "4           Electronic check          70.70        151.65   Yes  \n",
      "\n",
      "[5 rows x 21 columns]\n"
     ]
    }
   ],
   "source": [
    "print(dataset_custumer.head())"
   ]
  },
  {
   "cell_type": "code",
   "execution_count": 4,
   "id": "812dc3a9",
   "metadata": {
    "id": "365a5f8f-c0e6-4ac3-929b-b54dd0c31c20",
    "outputId": "a9087574-4337-4589-85fc-262ba2e12592"
   },
   "outputs": [
    {
     "name": "stdout",
     "output_type": "stream",
     "text": [
      "      customerID  gender  SeniorCitizen Partner Dependents  tenure  \\\n",
      "7038  6840-RESVB    Male              0     Yes        Yes      24   \n",
      "7039  2234-XADUH  Female              0     Yes        Yes      72   \n",
      "7040  4801-JZAZL  Female              0     Yes        Yes      11   \n",
      "7041  8361-LTMKD    Male              1     Yes         No       4   \n",
      "7042  3186-AJIEK    Male              0      No         No      66   \n",
      "\n",
      "     PhoneService     MultipleLines InternetService OnlineSecurity  ...  \\\n",
      "7038          Yes               Yes             DSL            Yes  ...   \n",
      "7039          Yes               Yes     Fiber optic             No  ...   \n",
      "7040           No  No phone service             DSL            Yes  ...   \n",
      "7041          Yes               Yes     Fiber optic             No  ...   \n",
      "7042          Yes                No     Fiber optic            Yes  ...   \n",
      "\n",
      "     DeviceProtection TechSupport StreamingTV StreamingMovies        Contract  \\\n",
      "7038              Yes         Yes         Yes             Yes        One year   \n",
      "7039              Yes          No         Yes             Yes        One year   \n",
      "7040               No          No          No              No  Month-to-month   \n",
      "7041               No          No          No              No  Month-to-month   \n",
      "7042              Yes         Yes         Yes             Yes        Two year   \n",
      "\n",
      "     PaperlessBilling              PaymentMethod MonthlyCharges  TotalCharges  \\\n",
      "7038              Yes               Mailed check          84.80        1990.5   \n",
      "7039              Yes    Credit card (automatic)         103.20        7362.9   \n",
      "7040              Yes           Electronic check          29.60        346.45   \n",
      "7041              Yes               Mailed check          74.40         306.6   \n",
      "7042              Yes  Bank transfer (automatic)         105.65        6844.5   \n",
      "\n",
      "     Churn  \n",
      "7038    No  \n",
      "7039    No  \n",
      "7040    No  \n",
      "7041   Yes  \n",
      "7042    No  \n",
      "\n",
      "[5 rows x 21 columns]\n"
     ]
    }
   ],
   "source": [
    "print(dataset_custumer.tail())"
   ]
  },
  {
   "cell_type": "markdown",
   "id": "0fd87b11",
   "metadata": {
    "id": "4f9913cd"
   },
   "source": [
    "Dans la partie qui suit nous allons utiliser le fontion info() de la librerie pandas pour afficher certains informations sur notre jeu de données. elle va nous retourner le nombre de colonne le type de donnée pour chaque colonne. elle permet également de savoir s'il ya de valeure manquante"
   ]
  },
  {
   "cell_type": "code",
   "execution_count": 5,
   "id": "bf8d9e9a",
   "metadata": {
    "id": "6b7277c1-007c-4221-a348-f7986db161ad",
    "outputId": "49595a1e-4835-42ca-dd56-0b849d20064b"
   },
   "outputs": [
    {
     "name": "stdout",
     "output_type": "stream",
     "text": [
      "<class 'pandas.core.frame.DataFrame'>\n",
      "RangeIndex: 7043 entries, 0 to 7042\n",
      "Data columns (total 21 columns):\n",
      " #   Column            Non-Null Count  Dtype  \n",
      "---  ------            --------------  -----  \n",
      " 0   customerID        7043 non-null   object \n",
      " 1   gender            7043 non-null   object \n",
      " 2   SeniorCitizen     7043 non-null   int64  \n",
      " 3   Partner           7043 non-null   object \n",
      " 4   Dependents        7043 non-null   object \n",
      " 5   tenure            7043 non-null   int64  \n",
      " 6   PhoneService      7043 non-null   object \n",
      " 7   MultipleLines     7043 non-null   object \n",
      " 8   InternetService   7043 non-null   object \n",
      " 9   OnlineSecurity    7043 non-null   object \n",
      " 10  OnlineBackup      7043 non-null   object \n",
      " 11  DeviceProtection  7043 non-null   object \n",
      " 12  TechSupport       7043 non-null   object \n",
      " 13  StreamingTV       7043 non-null   object \n",
      " 14  StreamingMovies   7043 non-null   object \n",
      " 15  Contract          7043 non-null   object \n",
      " 16  PaperlessBilling  7043 non-null   object \n",
      " 17  PaymentMethod     7043 non-null   object \n",
      " 18  MonthlyCharges    7043 non-null   float64\n",
      " 19  TotalCharges      7043 non-null   object \n",
      " 20  Churn             7043 non-null   object \n",
      "dtypes: float64(1), int64(2), object(18)\n",
      "memory usage: 1.1+ MB\n",
      "None\n"
     ]
    }
   ],
   "source": [
    "\n",
    "print(dataset_custumer.info())"
   ]
  },
  {
   "cell_type": "markdown",
   "id": "8638e22c",
   "metadata": {
    "id": "805e3914"
   },
   "source": [
    "par la suite nous allons utliser la fonction describe() pour avoir d'autre informations tel que le nombre d'element,la moyenne, l'ecart-type, le max le min...\n",
    "  "
   ]
  },
  {
   "cell_type": "code",
   "execution_count": 6,
   "id": "cc586253",
   "metadata": {
    "id": "bbe6a0c8-a55c-446a-bede-4605f4dd8e94",
    "outputId": "49e16c73-6194-45ef-b230-44a2b78220ba"
   },
   "outputs": [
    {
     "data": {
      "text/html": [
       "<div>\n",
       "<style scoped>\n",
       "    .dataframe tbody tr th:only-of-type {\n",
       "        vertical-align: middle;\n",
       "    }\n",
       "\n",
       "    .dataframe tbody tr th {\n",
       "        vertical-align: top;\n",
       "    }\n",
       "\n",
       "    .dataframe thead th {\n",
       "        text-align: right;\n",
       "    }\n",
       "</style>\n",
       "<table border=\"1\" class=\"dataframe\">\n",
       "  <thead>\n",
       "    <tr style=\"text-align: right;\">\n",
       "      <th></th>\n",
       "      <th>SeniorCitizen</th>\n",
       "      <th>tenure</th>\n",
       "      <th>MonthlyCharges</th>\n",
       "    </tr>\n",
       "  </thead>\n",
       "  <tbody>\n",
       "    <tr>\n",
       "      <th>count</th>\n",
       "      <td>7043.000000</td>\n",
       "      <td>7043.000000</td>\n",
       "      <td>7043.000000</td>\n",
       "    </tr>\n",
       "    <tr>\n",
       "      <th>mean</th>\n",
       "      <td>0.162147</td>\n",
       "      <td>32.371149</td>\n",
       "      <td>64.761692</td>\n",
       "    </tr>\n",
       "    <tr>\n",
       "      <th>std</th>\n",
       "      <td>0.368612</td>\n",
       "      <td>24.559481</td>\n",
       "      <td>30.090047</td>\n",
       "    </tr>\n",
       "    <tr>\n",
       "      <th>min</th>\n",
       "      <td>0.000000</td>\n",
       "      <td>0.000000</td>\n",
       "      <td>18.250000</td>\n",
       "    </tr>\n",
       "    <tr>\n",
       "      <th>25%</th>\n",
       "      <td>0.000000</td>\n",
       "      <td>9.000000</td>\n",
       "      <td>35.500000</td>\n",
       "    </tr>\n",
       "    <tr>\n",
       "      <th>50%</th>\n",
       "      <td>0.000000</td>\n",
       "      <td>29.000000</td>\n",
       "      <td>70.350000</td>\n",
       "    </tr>\n",
       "    <tr>\n",
       "      <th>75%</th>\n",
       "      <td>0.000000</td>\n",
       "      <td>55.000000</td>\n",
       "      <td>89.850000</td>\n",
       "    </tr>\n",
       "    <tr>\n",
       "      <th>max</th>\n",
       "      <td>1.000000</td>\n",
       "      <td>72.000000</td>\n",
       "      <td>118.750000</td>\n",
       "    </tr>\n",
       "  </tbody>\n",
       "</table>\n",
       "</div>"
      ],
      "text/plain": [
       "       SeniorCitizen       tenure  MonthlyCharges\n",
       "count    7043.000000  7043.000000     7043.000000\n",
       "mean        0.162147    32.371149       64.761692\n",
       "std         0.368612    24.559481       30.090047\n",
       "min         0.000000     0.000000       18.250000\n",
       "25%         0.000000     9.000000       35.500000\n",
       "50%         0.000000    29.000000       70.350000\n",
       "75%         0.000000    55.000000       89.850000\n",
       "max         1.000000    72.000000      118.750000"
      ]
     },
     "execution_count": 6,
     "metadata": {},
     "output_type": "execute_result"
    }
   ],
   "source": [
    "\n",
    "dataset_custumer.describe()"
   ]
  },
  {
   "cell_type": "markdown",
   "id": "5479b021",
   "metadata": {
    "id": "be177ba2"
   },
   "source": [
    "nous allons maintenant chercher le nombre de classe pour notre jeu de données. pour cela nous allons utiliser une la fonction value_counts().plot.pie() pour afficher un diagramme circulaire sur la clonne \"Churn\" et le nombre des secteurs de cette diagramme sera le nombre de classes cherchées. comme nous pouvons le constater sur le diagramme ci-desous notre jeu de données a deux classe. en fait les clients de cette entreprise sont regroupés en deux groupe a savoir les desabonnés et le non desabonnés"
   ]
  },
  {
   "cell_type": "code",
   "execution_count": 7,
   "id": "60edef5e",
   "metadata": {
    "id": "dc3d9e2b-4954-470c-a684-d6579758f9f7",
    "outputId": "a0b6e4f7-912b-4334-e61d-9a38b1e38951",
    "vscode": {
     "languageId": "markdown"
    }
   },
   "outputs": [
    {
     "data": {
      "text/plain": [
       "<AxesSubplot:ylabel='Churn'>"
      ]
     },
     "execution_count": 7,
     "metadata": {},
     "output_type": "execute_result"
    },
    {
     "data": {
      "image/png": "[encoded data removed]",
      "text/plain": [
       "<Figure size 1224x864 with 1 Axes>"
      ]
     },
     "metadata": {},
     "output_type": "display_data"
    }
   ],
   "source": [
    "plt.figure(figsize=(17,12))\n",
    "dataset_custumer['Churn'].value_counts().plot.pie()"
   ]
  },
  {
   "cell_type": "markdown",
   "id": "c5eb844a",
   "metadata": {
    "id": "60f8b4cb"
   },
   "source": [
    "Après avoir determiner le nombre de classe de notre jeu de données nous allons maintenant utilser la fonction value_counts() pour determiner le nombre d'element dans chaque classe. comme nous pouvons observer sur le retour de la fonction nous avons 1869 clients desbonnés et 5174 non désabonnés. "
   ]
  },
  {
   "cell_type": "code",
   "execution_count": 8,
   "id": "d1a2277c",
   "metadata": {
    "id": "68ec2b19-6639-4a63-98b1-8d7d16a039e3",
    "outputId": "0f4c3c0d-1b62-4a49-8272-9aa98401752e"
   },
   "outputs": [
    {
     "data": {
      "text/plain": [
       "No     5174\n",
       "Yes    1869\n",
       "Name: Churn, dtype: int64"
      ]
     },
     "execution_count": 8,
     "metadata": {},
     "output_type": "execute_result"
    }
   ],
   "source": [
    "dataset_custumer['Churn'].value_counts()"
   ]
  },
  {
   "cell_type": "markdown",
   "id": "a3577308",
   "metadata": {
    "id": "e65b9ce6"
   },
   "source": [
    "dans la partie suivante nous allons faire une autre visualisation pour avoir la correllation entre la colonne \"Chrun\" et les autres colonnes. pou cela nous allons utiliser le methode heatmap de la librerie seaborn elle s'utilise de la manière suvante:\n",
    "sns.heatmap(data, cmap='Greens')\n",
    "plt.title(\"titre du graphe\\n\", fontsize=police, color='code_couleur') avec\n",
    "\n",
    "data le variable qui contient les données à croiser\n",
    "cmap=’Greens’ permet de modifier la palette de couleurs. Tu peux remplacer le Greens par Reds, Blues, Purples, etc… (le ‘s’ sert à afficher un dégradé de couleur)\n",
    "plt.title(“ \\n”) permet de rajouter un titre au graphique. Vous pouvez sauter une ligne en rajouter \\n directement à la fin de votre titre pour améliorer l’affichage. Vous pouvez ajouter d’autres propriétés, ici nous avons décidé de modifier la taille du titre avec fontsize=18 et la couleur en précisant un code hexadécimal color=’#009432' (nous vous conseillons ce site pour les couleurs)\n",
    "\n",
    "A la fin nous aurons une matrice avec des couleur qu'on lit de la manière suivante: La couleurs est plus foncé pour une forte corrélation et plus clair pour une faible corrélation."
   ]
  },
  {
   "cell_type": "code",
   "execution_count": 9,
   "id": "b26ef85d",
   "metadata": {
    "id": "b420562a",
    "outputId": "b8bc61bc-82ee-46d7-9273-d8b657abc05c"
   },
   "outputs": [
    {
     "data": {
      "text/plain": [
       "Text(0.5, 1.0, 'Matrice de corrélation entre la colonne \"Churn\" et la \"gender\"\\n')"
      ]
     },
     "execution_count": 9,
     "metadata": {},
     "output_type": "execute_result"
    },
    {
     "data": {
      "image/png": "[encoded data removed]",
      "text/plain": [
       "<Figure size 432x288 with 2 Axes>"
      ]
     },
     "metadata": {
      "needs_background": "light"
     },
     "output_type": "display_data"
    }
   ],
   "source": [
    "\n",
    "sns.heatmap(pd.crosstab(dataset_custumer.Churn, dataset_custumer.gender),  cmap='Greens')\n",
    "plt.title(\"Matrice de corrélation entre la colonne \\\"Churn\\\" et la \\\"gender\\\"\\n\", fontsize=18, color='#009432')"
   ]
  },
  {
   "cell_type": "markdown",
   "id": "d2f13887",
   "metadata": {
    "id": "d3382444-14df-414c-b6c1-ce804d76d3c7"
   },
   "source": [
    "D'après la matrice de corrélation ci-haut nous constation que le désabonnement de clients n'est pas lié à leur sexe"
   ]
  },
  {
   "cell_type": "code",
   "execution_count": 10,
   "id": "d9efb8bf",
   "metadata": {
    "id": "c7b2cfd1",
    "outputId": "743fef8c-d682-4fb6-9cf1-02a7e5a8f8c4"
   },
   "outputs": [
    {
     "data": {
      "text/plain": [
       "Text(0.5, 1.0, 'Matrice de corrélation entre la colonne \"Churn\" et la \"SeniorCitizen\"\\n')"
      ]
     },
     "execution_count": 10,
     "metadata": {},
     "output_type": "execute_result"
    },
    {
     "data": {
      "image/png": "[encoded data removed]",
      "text/plain": [
       "<Figure size 432x288 with 2 Axes>"
      ]
     },
     "metadata": {
      "needs_background": "light"
     },
     "output_type": "display_data"
    }
   ],
   "source": [
    "\n",
    "sns.heatmap(pd.crosstab(dataset_custumer.Churn, dataset_custumer.SeniorCitizen), cmap='Greens')\n",
    "plt.title(\"Matrice de corrélation entre la colonne \\\"Churn\\\" et la \\\"SeniorCitizen\\\"\\n\", fontsize=18, color='#009432')"
   ]
  },
  {
   "cell_type": "markdown",
   "id": "67f7c370",
   "metadata": {
    "id": "448817b4-2ae6-4e10-abc8-efbef1e51849"
   },
   "source": [
    "Ici on constate que le désabonnement n'est lié au clients de plus 65 ans alors qu'il est lié de manière très partielle à ceux qui on moins de 65 ans en plus on remarque aussi que la majorité des clients ont moins de 65 ans"
   ]
  },
  {
   "cell_type": "code",
   "execution_count": 11,
   "id": "285a59cf",
   "metadata": {
    "id": "262369c0",
    "outputId": "5004d94b-5fb6-4c80-a5cc-9aae1a9dab23"
   },
   "outputs": [
    {
     "data": {
      "text/plain": [
       "Text(0.5, 1.0, 'Matrice de corrélation entre la colonne \"Churn\" et la \"Partner\"\\n')"
      ]
     },
     "execution_count": 11,
     "metadata": {},
     "output_type": "execute_result"
    },
    {
     "data": {
      "image/png": "[encoded data removed]",
      "text/plain": [
       "<Figure size 432x288 with 2 Axes>"
      ]
     },
     "metadata": {
      "needs_background": "light"
     },
     "output_type": "display_data"
    }
   ],
   "source": [
    "\n",
    "sns.heatmap(pd.crosstab(dataset_custumer.Churn, dataset_custumer.Partner), cmap='Greens')\n",
    "plt.title(\"Matrice de corrélation entre la colonne \\\"Churn\\\" et la \\\"Partner\\\"\\n\", fontsize=18, color='#009432')"
   ]
  },
  {
   "cell_type": "markdown",
   "id": "c9dcdcf4",
   "metadata": {
    "id": "2e9adc69-8154-4fb3-8a73-cd45c122824f"
   },
   "source": [
    "Ici on comprend que le désabonnement est partiellement lié aux clients non partenaire"
   ]
  },
  {
   "cell_type": "code",
   "execution_count": 12,
   "id": "4108c095",
   "metadata": {
    "id": "cd404202",
    "outputId": "fdfb78dd-5d02-470c-fe1b-1bec2b2dd4e5"
   },
   "outputs": [
    {
     "data": {
      "text/plain": [
       "Text(0.5, 1.0, 'Matrice de corrélation entre la colonne \"Churn\" et la \"Dependants\"\\n')"
      ]
     },
     "execution_count": 12,
     "metadata": {},
     "output_type": "execute_result"
    },
    {
     "data": {
      "image/png": "[encoded data removed]",
      "text/plain": [
       "<Figure size 432x288 with 2 Axes>"
      ]
     },
     "metadata": {
      "needs_background": "light"
     },
     "output_type": "display_data"
    }
   ],
   "source": [
    "\n",
    "sns.heatmap(pd.crosstab(dataset_custumer.Churn, dataset_custumer.Dependents), cmap='Greens')\n",
    "plt.title(\"Matrice de corrélation entre la colonne \\\"Churn\\\" et la \\\"Dependants\\\"\\n\", fontsize=18, color='#009432')"
   ]
  },
  {
   "cell_type": "markdown",
   "id": "2d8a513a",
   "metadata": {
    "id": "c088dc65-e086-4078-950d-9be3174767da"
   },
   "source": [
    "sur ce matrice on remarque le désabonnement est lié aux clients qui n'ont pas des personnes qui depend d'eux "
   ]
  },
  {
   "cell_type": "code",
   "execution_count": 13,
   "id": "a60abb96",
   "metadata": {
    "id": "46b9f30f",
    "outputId": "49ad522a-64f5-4d5b-b18d-b1e72ebafea2"
   },
   "outputs": [
    {
     "data": {
      "text/plain": [
       "Text(0.5, 1.0, 'Matrice de corrélation entre la colonne \"Churn\" et la \"tenure\"\\n')"
      ]
     },
     "execution_count": 13,
     "metadata": {},
     "output_type": "execute_result"
    },
    {
     "data": {
      "image/png": "[encoded data removed]",
      "text/plain": [
       "<Figure size 432x288 with 2 Axes>"
      ]
     },
     "metadata": {
      "needs_background": "light"
     },
     "output_type": "display_data"
    }
   ],
   "source": [
    "\n",
    "sns.heatmap(pd.crosstab(dataset_custumer.Churn, dataset_custumer.tenure), cmap='Greens')\n",
    "plt.title(\"Matrice de corrélation entre la colonne \\\"Churn\\\" et la \\\"tenure\\\"\\n\", fontsize=18, color='#009432')"
   ]
  },
  {
   "cell_type": "code",
   "execution_count": 14,
   "id": "7f7425f1",
   "metadata": {
    "id": "160f6c55",
    "outputId": "090b8ac6-0225-4c26-e0db-a4d5d756ab84"
   },
   "outputs": [
    {
     "data": {
      "text/plain": [
       "Text(0.5, 1.0, 'Matrice de corrélation entre la colonne \"Churn\" et la \"PhoneService\"\\n')"
      ]
     },
     "execution_count": 14,
     "metadata": {},
     "output_type": "execute_result"
    },
    {
     "data": {
      "image/png": "[encoded data removed]",
      "text/plain": [
       "<Figure size 432x288 with 2 Axes>"
      ]
     },
     "metadata": {
      "needs_background": "light"
     },
     "output_type": "display_data"
    }
   ],
   "source": [
    "\n",
    "sns.heatmap(pd.crosstab(dataset_custumer.Churn, dataset_custumer.PhoneService), cmap='Greens')\n",
    "plt.title(\"Matrice de corrélation entre la colonne \\\"Churn\\\" et la \\\"PhoneService\\\"\\n\", fontsize=18, color='#009432')"
   ]
  },
  {
   "cell_type": "markdown",
   "id": "6f3bdfbc",
   "metadata": {
    "id": "f9702f78-c1a8-4aef-881e-5a995efcfc16"
   },
   "source": [
    "celle nous montre que le désabonnement est lié de manière parielle aux clients qui ont un service téléphonique "
   ]
  },
  {
   "cell_type": "code",
   "execution_count": 15,
   "id": "adbaec98",
   "metadata": {
    "id": "1e81e657",
    "outputId": "eb145bd4-c64e-4013-ae01-5dc34d67f4a0"
   },
   "outputs": [
    {
     "data": {
      "text/plain": [
       "Text(0.5, 1.0, 'Matrice de corrélation entre la colonne \"Churn\" et la \"MultipleLine\"\\n')"
      ]
     },
     "execution_count": 15,
     "metadata": {},
     "output_type": "execute_result"
    },
    {
     "data": {
      "image/png": "[encoded data removed]",
      "text/plain": [
       "<Figure size 432x288 with 2 Axes>"
      ]
     },
     "metadata": {
      "needs_background": "light"
     },
     "output_type": "display_data"
    }
   ],
   "source": [
    "\n",
    "sns.heatmap(pd.crosstab(dataset_custumer.Churn, dataset_custumer.MultipleLines), cmap='Greens')\n",
    "plt.title(\"Matrice de corrélation entre la colonne \\\"Churn\\\" et la \\\"MultipleLine\\\"\\n\", fontsize=18, color='#009432')"
   ]
  },
  {
   "cell_type": "markdown",
   "id": "7859f28c",
   "metadata": {
    "id": "4820af8f-a5c6-48e8-bfcb-e30f4ac07e61"
   },
   "source": [
    "le graphe si nous montre que le désabonnement est lié aux clients qui ont une et plusieurs lignes téléphonique"
   ]
  },
  {
   "cell_type": "code",
   "execution_count": 16,
   "id": "dbc13ac4",
   "metadata": {
    "id": "6a7a4533",
    "outputId": "774336d3-fbe8-447f-9491-11670973b209"
   },
   "outputs": [
    {
     "data": {
      "text/plain": [
       "Text(0.5, 1.0, 'Matrice de corrélation entre la colonne \"Churn\" et la \"InternetService\"\\n')"
      ]
     },
     "execution_count": 16,
     "metadata": {},
     "output_type": "execute_result"
    },
    {
     "data": {
      "image/png": "[encoded data removed]",
      "text/plain": [
       "<Figure size 432x288 with 2 Axes>"
      ]
     },
     "metadata": {
      "needs_background": "light"
     },
     "output_type": "display_data"
    }
   ],
   "source": [
    "\n",
    "sns.heatmap(pd.crosstab(dataset_custumer.Churn, dataset_custumer.InternetService), cmap='Greens')\n",
    "plt.title(\"Matrice de corrélation entre la colonne \\\"Churn\\\" et la \\\"InternetService\\\"\\n\", fontsize=18, color='#009432')"
   ]
  },
  {
   "cell_type": "markdown",
   "id": "b183ce48",
   "metadata": {
    "id": "8281508e-ea5c-4cdd-bf31-0180f30f76dc"
   },
   "source": [
    "la matice ci nous montre que le désabonnement est lié aux clients utilisant la fibre optique"
   ]
  },
  {
   "cell_type": "code",
   "execution_count": 17,
   "id": "c934cda7",
   "metadata": {
    "id": "94533c54",
    "outputId": "c5d68a09-63aa-46d7-df0e-47f41fa6dfe1"
   },
   "outputs": [
    {
     "data": {
      "text/plain": [
       "Text(0.5, 1.0, 'Matrice de corrélation entre la colonne \"Churn\" et la \"OnlineSecurity\"\\n')"
      ]
     },
     "execution_count": 17,
     "metadata": {},
     "output_type": "execute_result"
    },
    {
     "data": {
      "image/png": "[encoded data removed]",
      "text/plain": [
       "<Figure size 432x288 with 2 Axes>"
      ]
     },
     "metadata": {
      "needs_background": "light"
     },
     "output_type": "display_data"
    }
   ],
   "source": [
    "\n",
    "sns.heatmap(pd.crosstab(dataset_custumer.Churn, dataset_custumer.OnlineSecurity), cmap='Greens')\n",
    "plt.title(\"Matrice de corrélation entre la colonne \\\"Churn\\\" et la \\\"OnlineSecurity\\\"\\n\", fontsize=18, color='#009432')"
   ]
  },
  {
   "cell_type": "markdown",
   "id": "b9e334c1",
   "metadata": {
    "id": "b7c582d4-7b23-4c05-a3bc-4e459f04c095"
   },
   "source": [
    "la matrice ci nous montre que le désabonnement est lié aux clients qui ne sont abonnés au service de sécurité en ligne"
   ]
  },
  {
   "cell_type": "code",
   "execution_count": 18,
   "id": "aabca7ed",
   "metadata": {
    "id": "6d8eda71",
    "outputId": "5c913459-2729-4ed9-d258-2a54668a54d7"
   },
   "outputs": [
    {
     "data": {
      "text/plain": [
       "Text(0.5, 1.0, 'Matrice de corrélation entre la colonne \"Churn\" et la \"OnlineBackup\"\\n')"
      ]
     },
     "execution_count": 18,
     "metadata": {},
     "output_type": "execute_result"
    },
    {
     "data": {
      "image/png": "[encoded data removed]",
      "text/plain": [
       "<Figure size 432x288 with 2 Axes>"
      ]
     },
     "metadata": {
      "needs_background": "light"
     },
     "output_type": "display_data"
    }
   ],
   "source": [
    "\n",
    "sns.heatmap(pd.crosstab(dataset_custumer.Churn, dataset_custumer.OnlineBackup), cmap='Greens')\n",
    "plt.title(\"Matrice de corrélation entre la colonne \\\"Churn\\\" et la \\\"OnlineBackup\\\"\\n\", fontsize=18, color='#009432')"
   ]
  },
  {
   "cell_type": "markdown",
   "id": "90063548",
   "metadata": {
    "id": "82937936-dd14-497c-b66c-6e1a8a69d05e"
   },
   "source": [
    "nous constatons ici que le désabonnement est lié aux clients qui n'ont pas un service de sauvegarde en ligne et partiellement lié aux clients qui en ont  "
   ]
  },
  {
   "cell_type": "code",
   "execution_count": 19,
   "id": "8f335e1d",
   "metadata": {
    "id": "c6def7fd",
    "outputId": "9ce953c7-8503-4c53-ed7b-5ef378940095"
   },
   "outputs": [
    {
     "data": {
      "text/plain": [
       "Text(0.5, 1.0, 'Matrice de corrélation entre la colonne \"Churn\" et la \"DiviceProtection\"\\n')"
      ]
     },
     "execution_count": 19,
     "metadata": {},
     "output_type": "execute_result"
    },
    {
     "data": {
      "image/png": "[encoded data removed]",
      "text/plain": [
       "<Figure size 432x288 with 2 Axes>"
      ]
     },
     "metadata": {
      "needs_background": "light"
     },
     "output_type": "display_data"
    }
   ],
   "source": [
    "\n",
    "sns.heatmap(pd.crosstab(dataset_custumer.Churn, dataset_custumer.DeviceProtection), cmap='Greens')\n",
    "plt.title(\"Matrice de corrélation entre la colonne \\\"Churn\\\" et la \\\"DiviceProtection\\\"\\n\", fontsize=18, color='#009432')"
   ]
  },
  {
   "cell_type": "markdown",
   "id": "01635b01",
   "metadata": {
    "id": "a786e8a4-d9a0-40bd-8bdc-a850cb4cf849"
   },
   "source": [
    "nous constatons ici que le désabonnement est lié aux clients qui n'ont pas un plan de protection des appareils et partiellement lié aux clients qui en ont"
   ]
  },
  {
   "cell_type": "code",
   "execution_count": 20,
   "id": "6a410462",
   "metadata": {
    "id": "9cc106e8",
    "outputId": "1268c2b9-9cb5-4b4f-eb6a-6ab83cd6ec21"
   },
   "outputs": [
    {
     "data": {
      "text/plain": [
       "Text(0.5, 1.0, 'Matrice de corrélation entre la colonne \"Churn\" et la \"Techsupport\"\\n')"
      ]
     },
     "execution_count": 20,
     "metadata": {},
     "output_type": "execute_result"
    },
    {
     "data": {
      "image/png": "[encoded data removed]",
      "text/plain": [
       "<Figure size 432x288 with 2 Axes>"
      ]
     },
     "metadata": {
      "needs_background": "light"
     },
     "output_type": "display_data"
    }
   ],
   "source": [
    "\n",
    "sns.heatmap(pd.crosstab(dataset_custumer.Churn, dataset_custumer.TechSupport), cmap='Greens')\n",
    "plt.title(\"Matrice de corrélation entre la colonne \\\"Churn\\\" et la \\\"Techsupport\\\"\\n\", fontsize=18, color='#009432')"
   ]
  },
  {
   "cell_type": "markdown",
   "id": "82e7ec9b",
   "metadata": {
    "id": "76094190-1b7c-4c5f-b940-a51c2445c3f8"
   },
   "source": [
    "nous constatons ici que le désabonnement est lié aux clients qui n'ont pas une assistance technique supplementaire et partiellement lié aux clients qui en ont"
   ]
  },
  {
   "cell_type": "code",
   "execution_count": 21,
   "id": "2cdbb1e9",
   "metadata": {
    "id": "18ff8a73",
    "outputId": "98ef26fc-9cb9-4d0f-d96a-a3e5c946460c"
   },
   "outputs": [
    {
     "data": {
      "text/plain": [
       "Text(0.5, 1.0, 'Matrice de corrélation entre la colonne \"Churn\" et la \"StreamingTV\"\\n')"
      ]
     },
     "execution_count": 21,
     "metadata": {},
     "output_type": "execute_result"
    },
    {
     "data": {
      "image/png": "[encoded data removed]",
      "text/plain": [
       "<Figure size 432x288 with 2 Axes>"
      ]
     },
     "metadata": {
      "needs_background": "light"
     },
     "output_type": "display_data"
    }
   ],
   "source": [
    "\n",
    "sns.heatmap(pd.crosstab(dataset_custumer.Churn, dataset_custumer.StreamingTV), cmap='Greens')\n",
    "plt.title(\"Matrice de corrélation entre la colonne \\\"Churn\\\" et la \\\"StreamingTV\\\"\\n\", fontsize=18, color='#009432')"
   ]
  },
  {
   "cell_type": "markdown",
   "id": "05d95c9c",
   "metadata": {
    "id": "a3a196b8-6ceb-45f9-84c8-c99ce1e66e2c"
   },
   "source": [
    "le désabonnement est lié aux clients qui utilisent leur connexion internet pour le TV"
   ]
  },
  {
   "cell_type": "code",
   "execution_count": 22,
   "id": "c6ababd0",
   "metadata": {
    "id": "ccaecbdb",
    "outputId": "e4286b47-4a9b-448e-b9d6-8f7e1df30af5"
   },
   "outputs": [
    {
     "data": {
      "text/plain": [
       "Text(0.5, 1.0, 'Matrice de corrélation entre la colonne \"Churn\" et la \"StreamingMovies\"\\n')"
      ]
     },
     "execution_count": 22,
     "metadata": {},
     "output_type": "execute_result"
    },
    {
     "data": {
      "image/png": "[encoded data removed]",
      "text/plain": [
       "<Figure size 432x288 with 2 Axes>"
      ]
     },
     "metadata": {
      "needs_background": "light"
     },
     "output_type": "display_data"
    }
   ],
   "source": [
    "\n",
    "sns.heatmap(pd.crosstab(dataset_custumer.Churn, dataset_custumer.StreamingMovies), cmap='Greens')\n",
    "plt.title(\"Matrice de corrélation entre la colonne \\\"Churn\\\" et la \\\"StreamingMovies\\\"\\n\", fontsize=18, color='#009432')"
   ]
  },
  {
   "cell_type": "markdown",
   "id": "7b6a91b1",
   "metadata": {
    "id": "cbd16856-8539-4d88-a0cd-5e4fa6998bd2"
   },
   "source": [
    "le désabonnement est lié aux clients qui utlisent leur internet pour le movies"
   ]
  },
  {
   "cell_type": "code",
   "execution_count": 23,
   "id": "b2cf55e4",
   "metadata": {
    "id": "4b9fefb0",
    "outputId": "1d438dff-2ebd-4508-b1dc-6887fcc260d1"
   },
   "outputs": [
    {
     "data": {
      "text/plain": [
       "Text(0.5, 1.0, 'Matrice de corrélation entre la colonne \"Churn\" et \"Contract\"\\n')"
      ]
     },
     "execution_count": 23,
     "metadata": {},
     "output_type": "execute_result"
    },
    {
     "data": {
      "image/png": "[encoded data removed]",
      "text/plain": [
       "<Figure size 432x288 with 2 Axes>"
      ]
     },
     "metadata": {
      "needs_background": "light"
     },
     "output_type": "display_data"
    }
   ],
   "source": [
    "\n",
    "sns.heatmap(pd.crosstab(dataset_custumer.Churn, dataset_custumer.Contract), cmap='Greens')\n",
    "plt.title(\"Matrice de corrélation entre la colonne \\\"Churn\\\" et \\\"Contract\\\"\\n\", fontsize=18, color='#009432')"
   ]
  },
  {
   "cell_type": "markdown",
   "id": "7c87d765",
   "metadata": {
    "id": "9bde4525-4057-43b1-b9d7-0c22b086c5b6"
   },
   "source": [
    "la matrice ci quand elle nous montre que le désabonnement au contrat. plus le contrat est court plus il  y a désabonnement"
   ]
  },
  {
   "cell_type": "code",
   "execution_count": 24,
   "id": "c4a73591",
   "metadata": {
    "id": "046bd58b",
    "outputId": "1a532483-d5b4-4717-8e1a-a711be4166bd"
   },
   "outputs": [
    {
     "data": {
      "text/plain": [
       "Text(0.5, 1.0, 'Matrice de corrélation entre la colonne \"Churn\" et la \"PaperlessBilling\"\\n')"
      ]
     },
     "execution_count": 24,
     "metadata": {},
     "output_type": "execute_result"
    },
    {
     "data": {
      "image/png": "[encoded data removed]",
      "text/plain": [
       "<Figure size 432x288 with 2 Axes>"
      ]
     },
     "metadata": {
      "needs_background": "light"
     },
     "output_type": "display_data"
    }
   ],
   "source": [
    "\n",
    "sns.heatmap(pd.crosstab(dataset_custumer.Churn, dataset_custumer.PaperlessBilling), cmap='Greens')\n",
    "plt.title(\"Matrice de corrélation entre la colonne \\\"Churn\\\" et la \\\"PaperlessBilling\\\"\\n\", fontsize=18, color='#009432')"
   ]
  },
  {
   "cell_type": "markdown",
   "id": "16b0bee6",
   "metadata": {
    "id": "9180abdd-939c-4687-ba49-338191c5b5b7"
   },
   "source": [
    "le désabonnement est lié aux clients qui ont choisi la facturation sans papier"
   ]
  },
  {
   "cell_type": "code",
   "execution_count": 25,
   "id": "ab1848a5",
   "metadata": {
    "id": "90ea4292",
    "outputId": "08cfdacc-2cb2-41dc-8842-2f5c4f795717"
   },
   "outputs": [
    {
     "data": {
      "text/plain": [
       "Text(0.5, 1.0, 'Matrice de corrélation entre la colonne \"Churn\" et la \"PaymentMethod\"\\n')"
      ]
     },
     "execution_count": 25,
     "metadata": {},
     "output_type": "execute_result"
    },
    {
     "data": {
      "image/png": "[encoded data removed]",
      "text/plain": [
       "<Figure size 432x288 with 2 Axes>"
      ]
     },
     "metadata": {
      "needs_background": "light"
     },
     "output_type": "display_data"
    }
   ],
   "source": [
    "\n",
    "sns.heatmap(pd.crosstab(dataset_custumer.Churn, dataset_custumer.PaymentMethod), cmap='Greens')\n",
    "plt.title(\"Matrice de corrélation entre la colonne \\\"Churn\\\" et la \\\"PaymentMethod\\\"\\n\", fontsize=18, color='#009432')"
   ]
  },
  {
   "cell_type": "markdown",
   "id": "3dd75b76",
   "metadata": {
    "id": "fa2bafdd-b399-46a7-bfbc-524317ab52a0"
   },
   "source": [
    "ici on constate le désabonnement est lié aux client qui ont pour mode de payement le check electronique"
   ]
  },
  {
   "cell_type": "code",
   "execution_count": 26,
   "id": "0d853c6c",
   "metadata": {
    "id": "65fb3224",
    "outputId": "7de692e0-c600-4950-ed0e-61b545b71f48"
   },
   "outputs": [
    {
     "data": {
      "text/plain": [
       "Text(0.5, 1.0, 'Matrice de corrélation entre la colonne \"Churn\" et la \"MonthlyCharges\"\\n')"
      ]
     },
     "execution_count": 26,
     "metadata": {},
     "output_type": "execute_result"
    },
    {
     "data": {
      "image/png": "[encoded data removed]",
      "text/plain": [
       "<Figure size 432x288 with 2 Axes>"
      ]
     },
     "metadata": {
      "needs_background": "light"
     },
     "output_type": "display_data"
    }
   ],
   "source": [
    "\n",
    "sns.heatmap(pd.crosstab(dataset_custumer.Churn, dataset_custumer.MonthlyCharges), cmap='Greens')\n",
    "plt.title(\"Matrice de corrélation entre la colonne \\\"Churn\\\" et la \\\"MonthlyCharges\\\"\\n\", fontsize=18, color='#009432')"
   ]
  },
  {
   "cell_type": "code",
   "execution_count": 27,
   "id": "7424c65d",
   "metadata": {
    "id": "29b5a0ec",
    "outputId": "0f25f3af-a7b7-4d43-9cfb-5d8ae0a17685"
   },
   "outputs": [
    {
     "data": {
      "text/plain": [
       "Text(0.5, 1.0, 'Matrice de corrélation entre la colonne \"Churn\" et la \"TotalCharge\"\\n')"
      ]
     },
     "execution_count": 27,
     "metadata": {},
     "output_type": "execute_result"
    },
    {
     "data": {
      "image/png": "[encoded data removed]",
      "text/plain": [
       "<Figure size 432x288 with 2 Axes>"
      ]
     },
     "metadata": {
      "needs_background": "light"
     },
     "output_type": "display_data"
    }
   ],
   "source": [
    "\n",
    "sns.heatmap(pd.crosstab(dataset_custumer.Churn, dataset_custumer.TotalCharges), cmap='Greens')\n",
    "plt.title(\"Matrice de corrélation entre la colonne \\\"Churn\\\" et la \\\"TotalCharge\\\"\\n\", fontsize=18, color='#009432')"
   ]
  },
  {
   "cell_type": "markdown",
   "id": "abd2af1e",
   "metadata": {
    "id": "c87b710d-365f-4a5c-8ca4-5c6d67f99e23"
   },
   "source": [
    "### retrouvons les donnees non numeriques de notre jeu de donnees\n",
    "\n",
    "Nous allons maintenant identifier toutes colonnes ayant les valeurs non numeriques ainsi que les valeurs uniques de chacine de ces colonnes.\n"
   ]
  },
  {
   "cell_type": "code",
   "execution_count": 28,
   "id": "98ac5653",
   "metadata": {
    "id": "f52dcc45-8bb5-49bf-8b5c-72294b0d96de",
    "outputId": "23397f36-7f21-438f-99d4-e444f1d55e5a"
   },
   "outputs": [
    {
     "name": "stdout",
     "output_type": "stream",
     "text": [
      "customerID ['7590-VHVEG' '5575-GNVDE' '3668-QPYBK' ... '4801-JZAZL' '8361-LTMKD'\n",
      " '3186-AJIEK']\n",
      "gender ['Female' 'Male']\n",
      "Partner ['Yes' 'No']\n",
      "Dependents ['No' 'Yes']\n",
      "PhoneService ['No' 'Yes']\n",
      "MultipleLines ['No phone service' 'No' 'Yes']\n",
      "InternetService ['DSL' 'Fiber optic' 'No']\n",
      "OnlineSecurity ['No' 'Yes' 'No internet service']\n",
      "OnlineBackup ['Yes' 'No' 'No internet service']\n",
      "DeviceProtection ['No' 'Yes' 'No internet service']\n",
      "TechSupport ['No' 'Yes' 'No internet service']\n",
      "StreamingTV ['No' 'Yes' 'No internet service']\n",
      "StreamingMovies ['No' 'Yes' 'No internet service']\n",
      "Contract ['Month-to-month' 'One year' 'Two year']\n",
      "PaperlessBilling ['Yes' 'No']\n",
      "PaymentMethod ['Electronic check' 'Mailed check' 'Bank transfer (automatic)'\n",
      " 'Credit card (automatic)']\n",
      "TotalCharges ['29.85' '1889.5' '108.15' ... '346.45' '306.6' '6844.5']\n",
      "Churn ['No' 'Yes']\n"
     ]
    }
   ],
   "source": [
    "cols_cat= dataset_custumer.select_dtypes(exclude = np.number).columns\n",
    "for col in cols_cat:\n",
    "    print(col , dataset_custumer[col].unique())"
   ]
  },
  {
   "cell_type": "markdown",
   "id": "450cb5e4",
   "metadata": {
    "id": "33cecc85-078f-4499-8e1b-306ff33a6693"
   },
   "source": [
    "### interpertation\n",
    "Nous remarquons que nous avons plusieurs colonnes ayant les valeurs non numeriques.  \n",
    "La colonne Gender a deux valeurs uniques a savoir female et male.  \n",
    "La colonne Partner a deux valeurs uniques à savoir Yes et No  \n",
    "La colonne Dependents a aussi deux valeurs uniques Yes et No  \n",
    "La colonne PhoneService a également deux valeurs uniques Yes et No    \n",
    "La colonne MultipleLines a trois valeurs uniques: No phone service, No et Yes  \n",
    "La colonne InternetService a trois valeurs uniques: DSL, Fibre optique et No  \n",
    "La colonne OnligeSecurity a trois valeurs uniques: Yes, No et No internet service  \n",
    "La colonne OnlineBackup a tois valeurs uniques : Yes, No et No internet service  \n",
    "La colonne DiviceProtection a trois valeurs : Yes , No et No internet service   \n",
    "La colonne TechSupport a trois valeurs : Yes , No et No internet service  \n",
    "La colonne StreamingTV a trois valeurs : Yes , No et No internet service  \n",
    "La colonne StreamingMovies a trois valeurs : Yes , No et No internet service  \n",
    "La colonne Contract a trois valeurs uniques : month-to-month, One year et Two year  \n",
    "La colonne PaperlessBilling a deux valeurs uniques : Yes et No  \n",
    "La colonne PaymentMethod a quatre valeurs uniques : 'Electronic check' 'Mailed check' 'Bank transfer (automatic)' 'Credit card (automatic)'  \n",
    "La colonne Churn a deux valeurs uniques: Yes et No  "
   ]
  },
  {
   "cell_type": "markdown",
   "id": "1a9f9853",
   "metadata": {
    "id": "dd5112a1-faef-42eb-821e-0ac231d699ed"
   },
   "source": [
    "### La discretisation des données\n",
    "Dans la partie suivante nous allons faire la discretisation des nnos données en remplaçant les données non numerique par des nombre. Nous allons par exemple faire ceci:  \n",
    "0 et 1 pour les colonnes qui ont deux valeurs uniques  \n",
    "-1 0 et 1 pour les colonnes qui ont trois valeurs uniques  \n",
    "-1 0 1 et 2 pour la clonne qui a quatre valeurs uniques\n",
    "\n",
    "### La variable ds va contenir le dataset numerique\n",
    "\n",
    "pour la colonne gender nous allons remplacer la valeur male par 0 et la valeur femele par 1  "
   ]
  },
  {
   "cell_type": "code",
   "execution_count": 29,
   "id": "ddd0e5ae",
   "metadata": {
    "id": "8d807b29-e040-408c-89d7-83143cdf24e9"
   },
   "outputs": [],
   "source": [
    "ds = dataset_custumer.replace({'gender': {'Female': 1, 'Male': 0}})"
   ]
  },
  {
   "cell_type": "markdown",
   "id": "95a7a486",
   "metadata": {
    "id": "a8328056-b556-40ae-afc0-8cc6cca91773"
   },
   "source": [
    "pour la colonne Partner nous allons remplacer la valeur Yes par 0  et 'No' par 1"
   ]
  },
  {
   "cell_type": "code",
   "execution_count": 30,
   "id": "a61169b0",
   "metadata": {
    "id": "ee01f430-c1f1-4a7a-8480-8bd44d8c5cba"
   },
   "outputs": [],
   "source": [
    "ds = ds.replace({'Partner': {'Yes': 0, 'No': 1}})"
   ]
  },
  {
   "cell_type": "markdown",
   "id": "eacf5ede",
   "metadata": {
    "id": "4d8aa391-8702-4231-9eaa-448263ffd139"
   },
   "source": [
    "pour la colonne Dependents nous allons remplacer la valeur 'No' par 1 et 'Yes' par 0 "
   ]
  },
  {
   "cell_type": "code",
   "execution_count": 31,
   "id": "fdffcff9",
   "metadata": {
    "id": "90a41f4f-9947-4823-b5fb-47479fb49145"
   },
   "outputs": [],
   "source": [
    "ds = ds.replace({'Dependents': {'Yes': 0, 'No': 1}})"
   ]
  },
  {
   "cell_type": "markdown",
   "id": "e076e917",
   "metadata": {
    "id": "6ce4cbd6-593f-48c7-b7e9-4e6f61a59aa6"
   },
   "source": [
    "pour la colonne PhoneService nous allons remplacer la valeur 'No' par 1 et 'Yes' par 0 "
   ]
  },
  {
   "cell_type": "code",
   "execution_count": 32,
   "id": "f3903b05",
   "metadata": {
    "id": "bcc1c9bb-8b98-4340-9f02-d39656a40db3"
   },
   "outputs": [],
   "source": [
    "ds = ds.replace({'PhoneService': {'Yes': 0, 'No': 1}})"
   ]
  },
  {
   "cell_type": "markdown",
   "id": "e961af5b",
   "metadata": {
    "id": "815c5384-a805-4403-99e7-a6efc78a76cd"
   },
   "source": [
    "pour la colonne MultipleLines nous allons remplacer la valeur 'No phone service' par -1, 'No' par 1 et 'Yes' par 0  "
   ]
  },
  {
   "cell_type": "code",
   "execution_count": 33,
   "id": "bad2512c",
   "metadata": {
    "id": "5173d3a9-6ac2-47ba-b081-190c14f89293"
   },
   "outputs": [],
   "source": [
    "ds = ds.replace({'MultipleLines': {'Yes': 0, 'No': 1, 'No phone service': -1}})"
   ]
  },
  {
   "cell_type": "markdown",
   "id": "cdc58b55",
   "metadata": {
    "id": "a070bce1-36dc-4f98-b419-b16bc429450c"
   },
   "source": [
    "pour la colonne InternetService nous allons remplacer la valeur 'DSL' par 0, 'Fiber optic' par -1 et 'No' par 1   "
   ]
  },
  {
   "cell_type": "code",
   "execution_count": 34,
   "id": "ba08ce3e",
   "metadata": {
    "id": "cc8251ee-2db1-40b5-bf20-1c71757d9572"
   },
   "outputs": [],
   "source": [
    "ds = ds.replace({'InternetService': {'DSL': 0, 'No': 1, 'Fiber optic': -1}})"
   ]
  },
  {
   "cell_type": "markdown",
   "id": "9b6bde94",
   "metadata": {
    "id": "bec8b176-e487-4578-aa92-18fb922a9118"
   },
   "source": [
    "pour la colonne OnlineSecurity nous allons remplacer la valeur 'No' par 1, 'Yes' par 0 et 'No internet service' par -1"
   ]
  },
  {
   "cell_type": "code",
   "execution_count": 35,
   "id": "4814f469",
   "metadata": {
    "id": "76f0dd7a-2463-41bb-935a-1075cb13b6f3"
   },
   "outputs": [],
   "source": [
    "ds = ds.replace({'OnlineSecurity': {'Yes': 0, 'No': 1, 'No internet service': -1}})"
   ]
  },
  {
   "cell_type": "markdown",
   "id": "bbb2de3a",
   "metadata": {
    "id": "656b3baa-09d7-466d-b2a2-33fc3d99ed8e"
   },
   "source": [
    "pour la colonne OnlineBackup nous allons remplacer la valeur 'No' par 1, 'Yes' par 0 et 'No internet service' par -1"
   ]
  },
  {
   "cell_type": "code",
   "execution_count": 36,
   "id": "cc534bb4",
   "metadata": {
    "id": "f8ac5892-b92f-441e-b692-750087750162"
   },
   "outputs": [],
   "source": [
    "ds = ds.replace({'OnlineBackup': {'Yes': 0, 'No': 1, 'No internet service': -1}})"
   ]
  },
  {
   "cell_type": "markdown",
   "id": "d591fd1d",
   "metadata": {
    "id": "f0415a48-302a-43fa-b574-3702c3218e56"
   },
   "source": [
    "pour la colonne DeviceProtection nous allons remplacer la valeur 'No' par 1, 'Yes' par 0 et 'No internet service' par -1"
   ]
  },
  {
   "cell_type": "code",
   "execution_count": 37,
   "id": "337f70f4",
   "metadata": {
    "id": "c2c67dd9-fb5a-4839-b2e3-cb6d5a42c40f"
   },
   "outputs": [],
   "source": [
    "ds = ds.replace({'DeviceProtection': {'Yes': 0, 'No': 1, 'No internet service': -1}})"
   ]
  },
  {
   "cell_type": "markdown",
   "id": "26298e74",
   "metadata": {
    "id": "fdc00e5e-8b52-431b-80ba-6504d7f087e1"
   },
   "source": [
    "pour la colonne TechSupport nous allons remplacer la valeur 'No' par 1, 'Yes' par 0 et 'No internet service' par -1"
   ]
  },
  {
   "cell_type": "code",
   "execution_count": 38,
   "id": "c08d0f74",
   "metadata": {
    "id": "6037b5ca-3368-47a4-8985-54434145de50"
   },
   "outputs": [],
   "source": [
    "ds = ds.replace({'TechSupport': {'Yes': 0, 'No': 1, 'No internet service': -1}})"
   ]
  },
  {
   "cell_type": "markdown",
   "id": "983de725",
   "metadata": {
    "id": "5679eeea-9a86-41d2-95a2-eab46196cd54"
   },
   "source": [
    "pour la colonne StreamingTV nous allons remplacer la valeur 'No' par 1, 'Yes' par 0 et 'No internet service' par -1"
   ]
  },
  {
   "cell_type": "code",
   "execution_count": 39,
   "id": "2dbc0de4",
   "metadata": {
    "id": "16435993-89c7-428d-917d-761e8e5d332f"
   },
   "outputs": [],
   "source": [
    "ds = ds.replace({'StreamingTV': {'Yes': 0, 'No': 1, 'No internet service': -1}})"
   ]
  },
  {
   "cell_type": "markdown",
   "id": "133167c9",
   "metadata": {
    "id": "fc154c5d-f42a-43a7-a994-927e6c284f5c"
   },
   "source": [
    "pour la colonne StreamingMovies nous allons remplacer la valeur 'No' par 1, 'Yes' par 0 et 'No internet service' par -1"
   ]
  },
  {
   "cell_type": "code",
   "execution_count": 40,
   "id": "20d965bf",
   "metadata": {
    "id": "1723c130-d86b-4f06-a6c5-838151b3ddb2"
   },
   "outputs": [],
   "source": [
    "ds = ds.replace({'StreamingMovies': {'Yes': 0, 'No': 1, 'No internet service': -1}})"
   ]
  },
  {
   "cell_type": "markdown",
   "id": "0b65aab6",
   "metadata": {
    "id": "eb1876bf-827e-4bb8-9c6b-a45fd872512c"
   },
   "source": [
    "pour la colonne PaperlessBilling nous allons remplacer la valeur 'No' par 1, 'Yes' par 0"
   ]
  },
  {
   "cell_type": "code",
   "execution_count": 41,
   "id": "cb8c3bf7",
   "metadata": {
    "id": "cbf7dc25-d561-4d7e-96df-1c4ccf265767"
   },
   "outputs": [],
   "source": [
    "ds = ds.replace({'PaperlessBilling': {'Yes': 0, 'No': 1}})"
   ]
  },
  {
   "cell_type": "markdown",
   "id": "14635a79",
   "metadata": {
    "id": "a3784d89-9324-402e-aabf-81df95e8f781"
   },
   "source": [
    "pour la colonne Churn nous allons remplacer la valeur 'No' par 1, 'Yes' par 0"
   ]
  },
  {
   "cell_type": "code",
   "execution_count": 42,
   "id": "aa4d5400",
   "metadata": {
    "id": "35a390c0-43a8-4950-900b-a230b823f0d8"
   },
   "outputs": [],
   "source": [
    "ds = ds.replace({'Churn': {'Yes': 0, 'No': 1}})"
   ]
  },
  {
   "cell_type": "markdown",
   "id": "eeca47da",
   "metadata": {
    "id": "9ca480e1-e617-49e7-a478-049a5fbb21aa"
   },
   "source": [
    "pour la colonne Contract nous allons remplacer la valeur 'Month-to-month' par 0, 'One year' par 1 et 'Two year' par -1 "
   ]
  },
  {
   "cell_type": "code",
   "execution_count": 43,
   "id": "aa043367",
   "metadata": {
    "id": "2cee3765-893d-45dd-a23d-d6727647fdbb"
   },
   "outputs": [],
   "source": [
    "ds = ds.replace({'Contract': {'Month-to-month': 0, 'One year': 1, 'Two year': -1}})"
   ]
  },
  {
   "cell_type": "markdown",
   "id": "c071c353",
   "metadata": {
    "id": "74d2db9a-746a-4f28-9ca0-adfef29fb726"
   },
   "source": [
    "pour la colonne PaymentMethod nous allons remplacer la valeur 'Electronic check' par -1, 'Mailed check' par 0, 'Bank transfer (automatic)' par 1 et 'Credit card (automatic)' par 2"
   ]
  },
  {
   "cell_type": "code",
   "execution_count": 44,
   "id": "45ffcce8",
   "metadata": {
    "id": "edaa2361-536f-45c6-bb23-402f7acf544a"
   },
   "outputs": [],
   "source": [
    "ds = ds.replace({'PaymentMethod': {'Mailed check': 0, 'Bank transfer (automatic)': 1, 'Electronic check': -1, 'Credit card (automatic)': 2}})"
   ]
  },
  {
   "cell_type": "markdown",
   "id": "1ef52763",
   "metadata": {
    "id": "bd46c203-135a-4b0f-b170-60d1cb7b86c8"
   },
   "source": [
    "### Maintenant nous allons convertir les valeurs de la colonne TotalCharges en foal.  \n",
    "pour cela on va utiliser la methode to_numeric() qui s'utilise de la manière suivante:  \n",
    "dataset['nom_colonne'] = pd.to_numeric(dataset['nom_colonne'], errors = 'rise') avec:  \n",
    "dataset la variable qui contient le jeu de donnée  \n",
    "nom_colonne le nom de la colonne consernée  \n",
    "foalt le type du retour  \n",
    "errors = 'rise' qui signifie lève des exeptions pour les valeurs non valides.  "
   ]
  },
  {
   "cell_type": "code",
   "execution_count": 45,
   "id": "0e5b4794",
   "metadata": {
    "id": "440654a9-43c3-4db8-adaf-d6407b0db597"
   },
   "outputs": [],
   "source": [
    "ds['TotalCharges'] = pd.to_numeric(ds['TotalCharges'],errors = 'coerce')"
   ]
  },
  {
   "cell_type": "markdown",
   "id": "ea50009d",
   "metadata": {
    "id": "fdc92fe8-87cc-4089-9198-639e438f0900"
   },
   "source": [
    "maintenant nous allons supprimer la colonne custumerID car elle ne sera pas utilisée pour la prediction pour le faire on utilise la fonction del() de pandas."
   ]
  },
  {
   "cell_type": "code",
   "execution_count": 46,
   "id": "7e5af129",
   "metadata": {
    "id": "50756a63-86b5-410d-928a-0ee7ea5372e7"
   },
   "outputs": [],
   "source": [
    "del ds['customerID']"
   ]
  },
  {
   "cell_type": "code",
   "execution_count": 47,
   "id": "158b5757",
   "metadata": {
    "id": "c9e67abd-7c7b-4bc1-93a3-4fef37ec5101",
    "outputId": "c775ee53-d33a-46b7-aee6-4738c56b70be"
   },
   "outputs": [
    {
     "name": "stdout",
     "output_type": "stream",
     "text": [
      "<class 'pandas.core.frame.DataFrame'>\n",
      "RangeIndex: 7043 entries, 0 to 7042\n",
      "Data columns (total 20 columns):\n",
      " #   Column            Non-Null Count  Dtype  \n",
      "---  ------            --------------  -----  \n",
      " 0   gender            7043 non-null   int64  \n",
      " 1   SeniorCitizen     7043 non-null   int64  \n",
      " 2   Partner           7043 non-null   int64  \n",
      " 3   Dependents        7043 non-null   int64  \n",
      " 4   tenure            7043 non-null   int64  \n",
      " 5   PhoneService      7043 non-null   int64  \n",
      " 6   MultipleLines     7043 non-null   int64  \n",
      " 7   InternetService   7043 non-null   int64  \n",
      " 8   OnlineSecurity    7043 non-null   int64  \n",
      " 9   OnlineBackup      7043 non-null   int64  \n",
      " 10  DeviceProtection  7043 non-null   int64  \n",
      " 11  TechSupport       7043 non-null   int64  \n",
      " 12  StreamingTV       7043 non-null   int64  \n",
      " 13  StreamingMovies   7043 non-null   int64  \n",
      " 14  Contract          7043 non-null   int64  \n",
      " 15  PaperlessBilling  7043 non-null   int64  \n",
      " 16  PaymentMethod     7043 non-null   int64  \n",
      " 17  MonthlyCharges    7043 non-null   float64\n",
      " 18  TotalCharges      7032 non-null   float64\n",
      " 19  Churn             7043 non-null   int64  \n",
      "dtypes: float64(2), int64(18)\n",
      "memory usage: 1.1 MB\n"
     ]
    }
   ],
   "source": [
    "ds.info()"
   ]
  },
  {
   "cell_type": "markdown",
   "id": "6efb17f2",
   "metadata": {
    "id": "de1df1dd-2f71-4bd9-ae2e-0ae7c441c1b8"
   },
   "source": [
    "Apres cette phase, on va selectionner les attributs qu'on garde pour le training. Pour ce faire nous allons calculer et tracer la correlation entre la sortie et les attributs"
   ]
  },
  {
   "cell_type": "code",
   "execution_count": 48,
   "id": "ae3670db",
   "metadata": {
    "id": "ed016250-5151-4fa8-9b8c-8e94d72bd3f5",
    "outputId": "3496da8a-e1f9-4cce-e77a-30ea4f547d2f"
   },
   "outputs": [
    {
     "data": {
      "text/html": [
       "<style type=\"text/css\">\n",
       "#T_2abc7_row0_col0, #T_2abc7_row1_col1, #T_2abc7_row2_col2, #T_2abc7_row3_col3, #T_2abc7_row4_col4, #T_2abc7_row5_col5, #T_2abc7_row6_col6, #T_2abc7_row7_col7, #T_2abc7_row8_col8, #T_2abc7_row9_col9, #T_2abc7_row10_col10, #T_2abc7_row11_col11, #T_2abc7_row12_col12, #T_2abc7_row13_col13, #T_2abc7_row14_col14, #T_2abc7_row15_col15, #T_2abc7_row16_col16, #T_2abc7_row17_col17, #T_2abc7_row18_col18, #T_2abc7_row19_col19 {\n",
       "  background-color: #023858;\n",
       "  color: #f1f1f1;\n",
       "}\n",
       "#T_2abc7_row0_col1, #T_2abc7_row14_col15, #T_2abc7_row14_col18 {\n",
       "  background-color: #d9d8ea;\n",
       "  color: #000000;\n",
       "}\n",
       "#T_2abc7_row0_col2, #T_2abc7_row2_col14, #T_2abc7_row7_col2 {\n",
       "  background-color: #c8cde4;\n",
       "  color: #000000;\n",
       "}\n",
       "#T_2abc7_row0_col3 {\n",
       "  background-color: #e4e1ef;\n",
       "  color: #000000;\n",
       "}\n",
       "#T_2abc7_row0_col4, #T_2abc7_row5_col15, #T_2abc7_row8_col6, #T_2abc7_row11_col6, #T_2abc7_row12_col3, #T_2abc7_row15_col4 {\n",
       "  background-color: #c9cee4;\n",
       "  color: #000000;\n",
       "}\n",
       "#T_2abc7_row0_col5, #T_2abc7_row0_col9, #T_2abc7_row1_col5, #T_2abc7_row4_col5 {\n",
       "  background-color: #9ab8d8;\n",
       "  color: #000000;\n",
       "}\n",
       "#T_2abc7_row0_col6, #T_2abc7_row0_col10, #T_2abc7_row3_col5, #T_2abc7_row8_col18 {\n",
       "  background-color: #99b8d8;\n",
       "  color: #000000;\n",
       "}\n",
       "#T_2abc7_row0_col7, #T_2abc7_row2_col11 {\n",
       "  background-color: #80aed2;\n",
       "  color: #f1f1f1;\n",
       "}\n",
       "#T_2abc7_row0_col8, #T_2abc7_row0_col11, #T_2abc7_row2_col12 {\n",
       "  background-color: #8fb4d6;\n",
       "  color: #000000;\n",
       "}\n",
       "#T_2abc7_row0_col12, #T_2abc7_row0_col13, #T_2abc7_row3_col7, #T_2abc7_row17_col1 {\n",
       "  background-color: #a4bcda;\n",
       "  color: #000000;\n",
       "}\n",
       "#T_2abc7_row0_col14, #T_2abc7_row0_col16, #T_2abc7_row5_col16 {\n",
       "  background-color: #e0dded;\n",
       "  color: #000000;\n",
       "}\n",
       "#T_2abc7_row0_col15, #T_2abc7_row7_col4, #T_2abc7_row15_col9, #T_2abc7_row15_col13, #T_2abc7_row18_col7 {\n",
       "  background-color: #d0d1e6;\n",
       "  color: #000000;\n",
       "}\n",
       "#T_2abc7_row0_col17, #T_2abc7_row8_col5, #T_2abc7_row11_col5 {\n",
       "  background-color: #7bacd1;\n",
       "  color: #f1f1f1;\n",
       "}\n",
       "#T_2abc7_row0_col18, #T_2abc7_row4_col10, #T_2abc7_row4_col12, #T_2abc7_row6_col8, #T_2abc7_row6_col11, #T_2abc7_row9_col14, #T_2abc7_row16_col9 {\n",
       "  background-color: #c0c9e2;\n",
       "  color: #000000;\n",
       "}\n",
       "#T_2abc7_row0_col19, #T_2abc7_row14_col1, #T_2abc7_row15_col8, #T_2abc7_row19_col8, #T_2abc7_row19_col11 {\n",
       "  background-color: #d2d2e7;\n",
       "  color: #000000;\n",
       "}\n",
       "#T_2abc7_row1_col0, #T_2abc7_row4_col3, #T_2abc7_row8_col15, #T_2abc7_row10_col0, #T_2abc7_row11_col0, #T_2abc7_row12_col0, #T_2abc7_row16_col0, #T_2abc7_row19_col3 {\n",
       "  background-color: #fdf5fa;\n",
       "  color: #000000;\n",
       "}\n",
       "#T_2abc7_row1_col2, #T_2abc7_row4_col6, #T_2abc7_row6_col13, #T_2abc7_row6_col19, #T_2abc7_row15_col2, #T_2abc7_row17_col5 {\n",
       "  background-color: #cccfe5;\n",
       "  color: #000000;\n",
       "}\n",
       "#T_2abc7_row1_col3, #T_2abc7_row10_col1, #T_2abc7_row11_col14, #T_2abc7_row13_col2 {\n",
       "  background-color: #b5c4df;\n",
       "  color: #000000;\n",
       "}\n",
       "#T_2abc7_row1_col4, #T_2abc7_row5_col2, #T_2abc7_row6_col10, #T_2abc7_row12_col6, #T_2abc7_row18_col1 {\n",
       "  background-color: #c4cbe3;\n",
       "  color: #000000;\n",
       "}\n",
       "#T_2abc7_row1_col6, #T_2abc7_row4_col8, #T_2abc7_row4_col11, #T_2abc7_row13_col18 {\n",
       "  background-color: #afc1dd;\n",
       "  color: #000000;\n",
       "}\n",
       "#T_2abc7_row1_col7, #T_2abc7_row9_col2 {\n",
       "  background-color: #b3c3de;\n",
       "  color: #000000;\n",
       "}\n",
       "#T_2abc7_row1_col8 {\n",
       "  background-color: #5a9ec9;\n",
       "  color: #f1f1f1;\n",
       "}\n",
       "#T_2abc7_row1_col9, #T_2abc7_row1_col10, #T_2abc7_row3_col10, #T_2abc7_row5_col9, #T_2abc7_row9_col5 {\n",
       "  background-color: #75a9cf;\n",
       "  color: #f1f1f1;\n",
       "}\n",
       "#T_2abc7_row1_col11 {\n",
       "  background-color: #569dc8;\n",
       "  color: #f1f1f1;\n",
       "}\n",
       "#T_2abc7_row1_col12, #T_2abc7_row2_col6, #T_2abc7_row2_col10, #T_2abc7_row7_col5, #T_2abc7_row14_col12, #T_2abc7_row14_col13 {\n",
       "  background-color: #83afd3;\n",
       "  color: #f1f1f1;\n",
       "}\n",
       "#T_2abc7_row1_col13, #T_2abc7_row2_col9, #T_2abc7_row3_col13, #T_2abc7_row4_col7, #T_2abc7_row4_col16, #T_2abc7_row18_col9 {\n",
       "  background-color: #84b0d3;\n",
       "  color: #f1f1f1;\n",
       "}\n",
       "#T_2abc7_row1_col14, #T_2abc7_row6_col14, #T_2abc7_row14_col3, #T_2abc7_row17_col14 {\n",
       "  background-color: #d5d5e8;\n",
       "  color: #000000;\n",
       "}\n",
       "#T_2abc7_row1_col15, #T_2abc7_row5_col3, #T_2abc7_row9_col4, #T_2abc7_row10_col4, #T_2abc7_row12_col7, #T_2abc7_row13_col7 {\n",
       "  background-color: #e7e3f0;\n",
       "  color: #000000;\n",
       "}\n",
       "#T_2abc7_row1_col16, #T_2abc7_row6_col4, #T_2abc7_row13_col15, #T_2abc7_row17_col19 {\n",
       "  background-color: #f0eaf4;\n",
       "  color: #000000;\n",
       "}\n",
       "#T_2abc7_row1_col17 {\n",
       "  background-color: #4697c4;\n",
       "  color: #f1f1f1;\n",
       "}\n",
       "#T_2abc7_row1_col18, #T_2abc7_row3_col1, #T_2abc7_row8_col1, #T_2abc7_row19_col17 {\n",
       "  background-color: #a7bddb;\n",
       "  color: #000000;\n",
       "}\n",
       "#T_2abc7_row1_col19 {\n",
       "  background-color: #eae6f1;\n",
       "  color: #000000;\n",
       "}\n",
       "#T_2abc7_row2_col0, #T_2abc7_row6_col0, #T_2abc7_row8_col0, #T_2abc7_row9_col0, #T_2abc7_row13_col0, #T_2abc7_row18_col0 {\n",
       "  background-color: #fef6fa;\n",
       "  color: #000000;\n",
       "}\n",
       "#T_2abc7_row2_col1, #T_2abc7_row5_col14 {\n",
       "  background-color: #dddbec;\n",
       "  color: #000000;\n",
       "}\n",
       "#T_2abc7_row2_col3 {\n",
       "  background-color: #62a2cb;\n",
       "  color: #f1f1f1;\n",
       "}\n",
       "#T_2abc7_row2_col4, #T_2abc7_row4_col2, #T_2abc7_row4_col14, #T_2abc7_row5_col6, #T_2abc7_row6_col5, #T_2abc7_row7_col0, #T_2abc7_row7_col1, #T_2abc7_row7_col3, #T_2abc7_row7_col8, #T_2abc7_row7_col9, #T_2abc7_row7_col10, #T_2abc7_row7_col11, #T_2abc7_row7_col12, #T_2abc7_row7_col13, #T_2abc7_row7_col17, #T_2abc7_row7_col18, #T_2abc7_row8_col16, #T_2abc7_row8_col19, #T_2abc7_row11_col16, #T_2abc7_row11_col19, #T_2abc7_row15_col0, #T_2abc7_row17_col7, #T_2abc7_row17_col15, #T_2abc7_row19_col0 {\n",
       "  background-color: #fff7fb;\n",
       "  color: #000000;\n",
       "}\n",
       "#T_2abc7_row2_col5, #T_2abc7_row15_col5, #T_2abc7_row19_col6 {\n",
       "  background-color: #94b6d7;\n",
       "  color: #000000;\n",
       "}\n",
       "#T_2abc7_row2_col7, #T_2abc7_row15_col6 {\n",
       "  background-color: #7eadd1;\n",
       "  color: #f1f1f1;\n",
       "}\n",
       "#T_2abc7_row2_col8 {\n",
       "  background-color: #7dacd1;\n",
       "  color: #f1f1f1;\n",
       "}\n",
       "#T_2abc7_row2_col13, #T_2abc7_row18_col12, #T_2abc7_row18_col13 {\n",
       "  background-color: #91b5d6;\n",
       "  color: #000000;\n",
       "}\n",
       "#T_2abc7_row2_col15, #T_2abc7_row17_col3 {\n",
       "  background-color: #d1d2e6;\n",
       "  color: #000000;\n",
       "}\n",
       "#T_2abc7_row2_col16 {\n",
       "  background-color: #f5eef6;\n",
       "  color: #000000;\n",
       "}\n",
       "#T_2abc7_row2_col17 {\n",
       "  background-color: #93b5d6;\n",
       "  color: #000000;\n",
       "}\n",
       "#T_2abc7_row2_col18, #T_2abc7_row3_col16, #T_2abc7_row11_col7, #T_2abc7_row13_col16 {\n",
       "  background-color: #f4edf6;\n",
       "  color: #000000;\n",
       "}\n",
       "#T_2abc7_row2_col19, #T_2abc7_row6_col3, #T_2abc7_row15_col14 {\n",
       "  background-color: #e9e5f1;\n",
       "  color: #000000;\n",
       "}\n",
       "#T_2abc7_row3_col0, #T_2abc7_row10_col16 {\n",
       "  background-color: #fcf4fa;\n",
       "  color: #000000;\n",
       "}\n",
       "#T_2abc7_row3_col2, #T_2abc7_row4_col17 {\n",
       "  background-color: #4094c3;\n",
       "  color: #f1f1f1;\n",
       "}\n",
       "#T_2abc7_row3_col4 {\n",
       "  background-color: #e5e1ef;\n",
       "  color: #000000;\n",
       "}\n",
       "#T_2abc7_row3_col6, #T_2abc7_row6_col17, #T_2abc7_row11_col18, #T_2abc7_row18_col19, #T_2abc7_row19_col15 {\n",
       "  background-color: #9cb9d9;\n",
       "  color: #000000;\n",
       "}\n",
       "#T_2abc7_row3_col8, #T_2abc7_row7_col15 {\n",
       "  background-color: #60a1ca;\n",
       "  color: #f1f1f1;\n",
       "}\n",
       "#T_2abc7_row3_col9, #T_2abc7_row5_col11, #T_2abc7_row14_col17 {\n",
       "  background-color: #73a9cf;\n",
       "  color: #f1f1f1;\n",
       "}\n",
       "#T_2abc7_row3_col11, #T_2abc7_row3_col17, #T_2abc7_row14_col11 {\n",
       "  background-color: #63a2cb;\n",
       "  color: #f1f1f1;\n",
       "}\n",
       "#T_2abc7_row3_col12 {\n",
       "  background-color: #81aed2;\n",
       "  color: #f1f1f1;\n",
       "}\n",
       "#T_2abc7_row3_col14, #T_2abc7_row5_col19, #T_2abc7_row13_col3, #T_2abc7_row15_col16, #T_2abc7_row18_col6 {\n",
       "  background-color: #cdd0e5;\n",
       "  color: #000000;\n",
       "}\n",
       "#T_2abc7_row3_col15, #T_2abc7_row12_col4, #T_2abc7_row16_col2 {\n",
       "  background-color: #e0deed;\n",
       "  color: #000000;\n",
       "}\n",
       "#T_2abc7_row3_col18, #T_2abc7_row4_col15, #T_2abc7_row6_col12, #T_2abc7_row15_col11, #T_2abc7_row15_col12, #T_2abc7_row19_col12, #T_2abc7_row19_col13 {\n",
       "  background-color: #ced0e6;\n",
       "  color: #000000;\n",
       "}\n",
       "#T_2abc7_row3_col19, #T_2abc7_row6_col1 {\n",
       "  background-color: #ece7f2;\n",
       "  color: #000000;\n",
       "}\n",
       "#T_2abc7_row4_col0, #T_2abc7_row5_col0, #T_2abc7_row14_col0 {\n",
       "  background-color: #fef6fb;\n",
       "  color: #000000;\n",
       "}\n",
       "#T_2abc7_row4_col1, #T_2abc7_row5_col18 {\n",
       "  background-color: #d7d6e9;\n",
       "  color: #000000;\n",
       "}\n",
       "#T_2abc7_row4_col9, #T_2abc7_row13_col1 {\n",
       "  background-color: #bfc9e1;\n",
       "  color: #000000;\n",
       "}\n",
       "#T_2abc7_row4_col13, #T_2abc7_row12_col14, #T_2abc7_row13_col14 {\n",
       "  background-color: #c1cae2;\n",
       "  color: #000000;\n",
       "}\n",
       "#T_2abc7_row4_col18 {\n",
       "  background-color: #04598c;\n",
       "  color: #f1f1f1;\n",
       "}\n",
       "#T_2abc7_row4_col19, #T_2abc7_row7_col6, #T_2abc7_row18_col11 {\n",
       "  background-color: #6da6cd;\n",
       "  color: #f1f1f1;\n",
       "}\n",
       "#T_2abc7_row5_col1 {\n",
       "  background-color: #dcdaeb;\n",
       "  color: #000000;\n",
       "}\n",
       "#T_2abc7_row5_col4 {\n",
       "  background-color: #cacee5;\n",
       "  color: #000000;\n",
       "}\n",
       "#T_2abc7_row5_col7 {\n",
       "  background-color: #67a4cc;\n",
       "  color: #f1f1f1;\n",
       "}\n",
       "#T_2abc7_row5_col8, #T_2abc7_row13_col5 {\n",
       "  background-color: #71a8ce;\n",
       "  color: #f1f1f1;\n",
       "}\n",
       "#T_2abc7_row5_col10, #T_2abc7_row5_col12, #T_2abc7_row5_col13, #T_2abc7_row7_col19, #T_2abc7_row14_col9 {\n",
       "  background-color: #79abd0;\n",
       "  color: #f1f1f1;\n",
       "}\n",
       "#T_2abc7_row5_col17 {\n",
       "  background-color: #b0c2de;\n",
       "  color: #000000;\n",
       "}\n",
       "#T_2abc7_row6_col2, #T_2abc7_row6_col15, #T_2abc7_row10_col2, #T_2abc7_row18_col5 {\n",
       "  background-color: #b1c2de;\n",
       "  color: #000000;\n",
       "}\n",
       "#T_2abc7_row6_col7, #T_2abc7_row16_col7 {\n",
       "  background-color: #529bc7;\n",
       "  color: #f1f1f1;\n",
       "}\n",
       "#T_2abc7_row6_col9, #T_2abc7_row9_col6, #T_2abc7_row10_col3 {\n",
       "  background-color: #c5cce3;\n",
       "  color: #000000;\n",
       "}\n",
       "#T_2abc7_row6_col16 {\n",
       "  background-color: #e6e2ef;\n",
       "  color: #000000;\n",
       "}\n",
       "#T_2abc7_row6_col18 {\n",
       "  background-color: #ede7f2;\n",
       "  color: #000000;\n",
       "}\n",
       "#T_2abc7_row7_col14, #T_2abc7_row16_col14 {\n",
       "  background-color: #f1ebf5;\n",
       "  color: #000000;\n",
       "}\n",
       "#T_2abc7_row7_col16, #T_2abc7_row9_col1, #T_2abc7_row11_col2 {\n",
       "  background-color: #b7c5df;\n",
       "  color: #000000;\n",
       "}\n",
       "#T_2abc7_row8_col2, #T_2abc7_row12_col2, #T_2abc7_row16_col15 {\n",
       "  background-color: #b4c4df;\n",
       "  color: #000000;\n",
       "}\n",
       "#T_2abc7_row8_col3, #T_2abc7_row8_col14 {\n",
       "  background-color: #bbc7e0;\n",
       "  color: #000000;\n",
       "}\n",
       "#T_2abc7_row8_col4, #T_2abc7_row11_col4 {\n",
       "  background-color: #e2dfee;\n",
       "  color: #000000;\n",
       "}\n",
       "#T_2abc7_row8_col7 {\n",
       "  background-color: #f4eef6;\n",
       "  color: #000000;\n",
       "}\n",
       "#T_2abc7_row8_col9, #T_2abc7_row10_col12, #T_2abc7_row11_col9 {\n",
       "  background-color: #045e93;\n",
       "  color: #f1f1f1;\n",
       "}\n",
       "#T_2abc7_row8_col10, #T_2abc7_row12_col11, #T_2abc7_row13_col11 {\n",
       "  background-color: #045e94;\n",
       "  color: #f1f1f1;\n",
       "}\n",
       "#T_2abc7_row8_col11, #T_2abc7_row11_col8, #T_2abc7_row12_col13, #T_2abc7_row13_col12 {\n",
       "  background-color: #04588a;\n",
       "  color: #f1f1f1;\n",
       "}\n",
       "#T_2abc7_row8_col12 {\n",
       "  background-color: #04649e;\n",
       "  color: #f1f1f1;\n",
       "}\n",
       "#T_2abc7_row8_col13, #T_2abc7_row18_col17 {\n",
       "  background-color: #04649d;\n",
       "  color: #f1f1f1;\n",
       "}\n",
       "#T_2abc7_row8_col17 {\n",
       "  background-color: #0567a1;\n",
       "  color: #f1f1f1;\n",
       "}\n",
       "#T_2abc7_row9_col3, #T_2abc7_row10_col6, #T_2abc7_row13_col6, #T_2abc7_row15_col17, #T_2abc7_row16_col10 {\n",
       "  background-color: #c2cbe2;\n",
       "  color: #000000;\n",
       "}\n",
       "#T_2abc7_row9_col7, #T_2abc7_row10_col7, #T_2abc7_row17_col16 {\n",
       "  background-color: #eee8f3;\n",
       "  color: #000000;\n",
       "}\n",
       "#T_2abc7_row9_col8, #T_2abc7_row10_col8, #T_2abc7_row10_col13, #T_2abc7_row12_col10 {\n",
       "  background-color: #045d92;\n",
       "  color: #f1f1f1;\n",
       "}\n",
       "#T_2abc7_row9_col10, #T_2abc7_row10_col9 {\n",
       "  background-color: #045f95;\n",
       "  color: #f1f1f1;\n",
       "}\n",
       "#T_2abc7_row9_col11, #T_2abc7_row11_col10, #T_2abc7_row13_col10 {\n",
       "  background-color: #045c90;\n",
       "  color: #f1f1f1;\n",
       "}\n",
       "#T_2abc7_row9_col12, #T_2abc7_row9_col13 {\n",
       "  background-color: #04629a;\n",
       "  color: #f1f1f1;\n",
       "}\n",
       "#T_2abc7_row9_col15 {\n",
       "  background-color: #f5eff6;\n",
       "  color: #000000;\n",
       "}\n",
       "#T_2abc7_row9_col16, #T_2abc7_row9_col19, #T_2abc7_row11_col15 {\n",
       "  background-color: #fbf3f9;\n",
       "  color: #000000;\n",
       "}\n",
       "#T_2abc7_row9_col17, #T_2abc7_row17_col18 {\n",
       "  background-color: #056fae;\n",
       "  color: #f1f1f1;\n",
       "}\n",
       "#T_2abc7_row9_col18 {\n",
       "  background-color: #acc0dd;\n",
       "  color: #000000;\n",
       "}\n",
       "#T_2abc7_row10_col5 {\n",
       "  background-color: #78abd0;\n",
       "  color: #f1f1f1;\n",
       "}\n",
       "#T_2abc7_row10_col11 {\n",
       "  background-color: #045b8e;\n",
       "  color: #f1f1f1;\n",
       "}\n",
       "#T_2abc7_row10_col14, #T_2abc7_row12_col1, #T_2abc7_row16_col8, #T_2abc7_row16_col11, #T_2abc7_row16_col12 {\n",
       "  background-color: #bcc7e1;\n",
       "  color: #000000;\n",
       "}\n",
       "#T_2abc7_row10_col15, #T_2abc7_row15_col3 {\n",
       "  background-color: #f7f0f7;\n",
       "  color: #000000;\n",
       "}\n",
       "#T_2abc7_row10_col17 {\n",
       "  background-color: #0771b1;\n",
       "  color: #f1f1f1;\n",
       "}\n",
       "#T_2abc7_row10_col18, #T_2abc7_row12_col18, #T_2abc7_row14_col2 {\n",
       "  background-color: #adc1dd;\n",
       "  color: #000000;\n",
       "}\n",
       "#T_2abc7_row10_col19 {\n",
       "  background-color: #faf2f8;\n",
       "  color: #000000;\n",
       "}\n",
       "#T_2abc7_row11_col1 {\n",
       "  background-color: #a2bcda;\n",
       "  color: #000000;\n",
       "}\n",
       "#T_2abc7_row11_col3, #T_2abc7_row16_col13 {\n",
       "  background-color: #bdc8e1;\n",
       "  color: #000000;\n",
       "}\n",
       "#T_2abc7_row11_col12, #T_2abc7_row11_col13 {\n",
       "  background-color: #046097;\n",
       "  color: #f1f1f1;\n",
       "}\n",
       "#T_2abc7_row11_col17, #T_2abc7_row17_col8 {\n",
       "  background-color: #0569a5;\n",
       "  color: #f1f1f1;\n",
       "}\n",
       "#T_2abc7_row12_col5 {\n",
       "  background-color: #6fa7ce;\n",
       "  color: #f1f1f1;\n",
       "}\n",
       "#T_2abc7_row12_col8, #T_2abc7_row13_col9 {\n",
       "  background-color: #046299;\n",
       "  color: #f1f1f1;\n",
       "}\n",
       "#T_2abc7_row12_col9, #T_2abc7_row13_col8 {\n",
       "  background-color: #046198;\n",
       "  color: #f1f1f1;\n",
       "}\n",
       "#T_2abc7_row12_col15 {\n",
       "  background-color: #eee9f3;\n",
       "  color: #000000;\n",
       "}\n",
       "#T_2abc7_row12_col16, #T_2abc7_row14_col16, #T_2abc7_row15_col1 {\n",
       "  background-color: #f3edf5;\n",
       "  color: #000000;\n",
       "}\n",
       "#T_2abc7_row12_col17, #T_2abc7_row13_col17 {\n",
       "  background-color: #197db7;\n",
       "  color: #f1f1f1;\n",
       "}\n",
       "#T_2abc7_row12_col19, #T_2abc7_row13_col19, #T_2abc7_row18_col3 {\n",
       "  background-color: #f1ebf4;\n",
       "  color: #000000;\n",
       "}\n",
       "#T_2abc7_row13_col4 {\n",
       "  background-color: #e1dfed;\n",
       "  color: #000000;\n",
       "}\n",
       "#T_2abc7_row14_col4 {\n",
       "  background-color: #efe9f3;\n",
       "  color: #000000;\n",
       "}\n",
       "#T_2abc7_row14_col5, #T_2abc7_row14_col7, #T_2abc7_row16_col5 {\n",
       "  background-color: #97b7d7;\n",
       "  color: #000000;\n",
       "}\n",
       "#T_2abc7_row14_col6, #T_2abc7_row19_col18 {\n",
       "  background-color: #8cb3d5;\n",
       "  color: #000000;\n",
       "}\n",
       "#T_2abc7_row14_col8, #T_2abc7_row16_col4, #T_2abc7_row18_col8 {\n",
       "  background-color: #69a5cc;\n",
       "  color: #f1f1f1;\n",
       "}\n",
       "#T_2abc7_row14_col10 {\n",
       "  background-color: #76aad0;\n",
       "  color: #f1f1f1;\n",
       "}\n",
       "#T_2abc7_row14_col19 {\n",
       "  background-color: #dfddec;\n",
       "  color: #000000;\n",
       "}\n",
       "#T_2abc7_row15_col7 {\n",
       "  background-color: #2383ba;\n",
       "  color: #f1f1f1;\n",
       "}\n",
       "#T_2abc7_row15_col10, #T_2abc7_row19_col10 {\n",
       "  background-color: #d2d3e7;\n",
       "  color: #000000;\n",
       "}\n",
       "#T_2abc7_row15_col18 {\n",
       "  background-color: #dedcec;\n",
       "  color: #000000;\n",
       "}\n",
       "#T_2abc7_row15_col19, #T_2abc7_row19_col16 {\n",
       "  background-color: #9fbad9;\n",
       "  color: #000000;\n",
       "}\n",
       "#T_2abc7_row16_col1 {\n",
       "  background-color: #ebe6f2;\n",
       "  color: #000000;\n",
       "}\n",
       "#T_2abc7_row16_col3, #T_2abc7_row18_col2 {\n",
       "  background-color: #f8f1f8;\n",
       "  color: #000000;\n",
       "}\n",
       "#T_2abc7_row16_col6 {\n",
       "  background-color: #a1bbda;\n",
       "  color: #000000;\n",
       "}\n",
       "#T_2abc7_row16_col17 {\n",
       "  background-color: #8eb3d5;\n",
       "  color: #000000;\n",
       "}\n",
       "#T_2abc7_row16_col18, #T_2abc7_row17_col4 {\n",
       "  background-color: #86b0d3;\n",
       "  color: #000000;\n",
       "}\n",
       "#T_2abc7_row16_col19 {\n",
       "  background-color: #89b1d4;\n",
       "  color: #000000;\n",
       "}\n",
       "#T_2abc7_row17_col0 {\n",
       "  background-color: #fbf4f9;\n",
       "  color: #000000;\n",
       "}\n",
       "#T_2abc7_row17_col2 {\n",
       "  background-color: #dad9ea;\n",
       "  color: #000000;\n",
       "}\n",
       "#T_2abc7_row17_col6 {\n",
       "  background-color: #b8c6e0;\n",
       "  color: #000000;\n",
       "}\n",
       "#T_2abc7_row17_col9 {\n",
       "  background-color: #0f76b3;\n",
       "  color: #f1f1f1;\n",
       "}\n",
       "#T_2abc7_row17_col10 {\n",
       "  background-color: #157ab5;\n",
       "  color: #f1f1f1;\n",
       "}\n",
       "#T_2abc7_row17_col11 {\n",
       "  background-color: #056caa;\n",
       "  color: #f1f1f1;\n",
       "}\n",
       "#T_2abc7_row17_col12, #T_2abc7_row19_col7 {\n",
       "  background-color: #2f8bbe;\n",
       "  color: #f1f1f1;\n",
       "}\n",
       "#T_2abc7_row17_col13 {\n",
       "  background-color: #2d8abd;\n",
       "  color: #f1f1f1;\n",
       "}\n",
       "#T_2abc7_row18_col4 {\n",
       "  background-color: #045a8d;\n",
       "  color: #f1f1f1;\n",
       "}\n",
       "#T_2abc7_row18_col10 {\n",
       "  background-color: #88b1d4;\n",
       "  color: #000000;\n",
       "}\n",
       "#T_2abc7_row18_col14, #T_2abc7_row19_col1 {\n",
       "  background-color: #f2ecf5;\n",
       "  color: #000000;\n",
       "}\n",
       "#T_2abc7_row18_col15 {\n",
       "  background-color: #e8e4f0;\n",
       "  color: #000000;\n",
       "}\n",
       "#T_2abc7_row18_col16 {\n",
       "  background-color: #abbfdc;\n",
       "  color: #000000;\n",
       "}\n",
       "#T_2abc7_row19_col2 {\n",
       "  background-color: #e3e0ee;\n",
       "  color: #000000;\n",
       "}\n",
       "#T_2abc7_row19_col4 {\n",
       "  background-color: #65a3cb;\n",
       "  color: #f1f1f1;\n",
       "}\n",
       "#T_2abc7_row19_col5 {\n",
       "  background-color: #96b6d7;\n",
       "  color: #000000;\n",
       "}\n",
       "#T_2abc7_row19_col9 {\n",
       "  background-color: #d4d4e8;\n",
       "  color: #000000;\n",
       "}\n",
       "#T_2abc7_row19_col14 {\n",
       "  background-color: #ede8f3;\n",
       "  color: #000000;\n",
       "}\n",
       "</style>\n",
       "<table id=\"T_2abc7\">\n",
       "  <thead>\n",
       "    <tr>\n",
       "      <th class=\"blank level0\" >&nbsp;</th>\n",
       "      <th id=\"T_2abc7_level0_col0\" class=\"col_heading level0 col0\" >gender</th>\n",
       "      <th id=\"T_2abc7_level0_col1\" class=\"col_heading level0 col1\" >SeniorCitizen</th>\n",
       "      <th id=\"T_2abc7_level0_col2\" class=\"col_heading level0 col2\" >Partner</th>\n",
       "      <th id=\"T_2abc7_level0_col3\" class=\"col_heading level0 col3\" >Dependents</th>\n",
       "      <th id=\"T_2abc7_level0_col4\" class=\"col_heading level0 col4\" >tenure</th>\n",
       "      <th id=\"T_2abc7_level0_col5\" class=\"col_heading level0 col5\" >PhoneService</th>\n",
       "      <th id=\"T_2abc7_level0_col6\" class=\"col_heading level0 col6\" >MultipleLines</th>\n",
       "      <th id=\"T_2abc7_level0_col7\" class=\"col_heading level0 col7\" >InternetService</th>\n",
       "      <th id=\"T_2abc7_level0_col8\" class=\"col_heading level0 col8\" >OnlineSecurity</th>\n",
       "      <th id=\"T_2abc7_level0_col9\" class=\"col_heading level0 col9\" >OnlineBackup</th>\n",
       "      <th id=\"T_2abc7_level0_col10\" class=\"col_heading level0 col10\" >DeviceProtection</th>\n",
       "      <th id=\"T_2abc7_level0_col11\" class=\"col_heading level0 col11\" >TechSupport</th>\n",
       "      <th id=\"T_2abc7_level0_col12\" class=\"col_heading level0 col12\" >StreamingTV</th>\n",
       "      <th id=\"T_2abc7_level0_col13\" class=\"col_heading level0 col13\" >StreamingMovies</th>\n",
       "      <th id=\"T_2abc7_level0_col14\" class=\"col_heading level0 col14\" >Contract</th>\n",
       "      <th id=\"T_2abc7_level0_col15\" class=\"col_heading level0 col15\" >PaperlessBilling</th>\n",
       "      <th id=\"T_2abc7_level0_col16\" class=\"col_heading level0 col16\" >PaymentMethod</th>\n",
       "      <th id=\"T_2abc7_level0_col17\" class=\"col_heading level0 col17\" >MonthlyCharges</th>\n",
       "      <th id=\"T_2abc7_level0_col18\" class=\"col_heading level0 col18\" >TotalCharges</th>\n",
       "      <th id=\"T_2abc7_level0_col19\" class=\"col_heading level0 col19\" >Churn</th>\n",
       "    </tr>\n",
       "  </thead>\n",
       "  <tbody>\n",
       "    <tr>\n",
       "      <th id=\"T_2abc7_level0_row0\" class=\"row_heading level0 row0\" >gender</th>\n",
       "      <td id=\"T_2abc7_row0_col0\" class=\"data row0 col0\" >1.000000</td>\n",
       "      <td id=\"T_2abc7_row0_col1\" class=\"data row0 col1\" >0.001874</td>\n",
       "      <td id=\"T_2abc7_row0_col2\" class=\"data row0 col2\" >-0.001808</td>\n",
       "      <td id=\"T_2abc7_row0_col3\" class=\"data row0 col3\" >0.010517</td>\n",
       "      <td id=\"T_2abc7_row0_col4\" class=\"data row0 col4\" >-0.005106</td>\n",
       "      <td id=\"T_2abc7_row0_col5\" class=\"data row0 col5\" >-0.006488</td>\n",
       "      <td id=\"T_2abc7_row0_col6\" class=\"data row0 col6\" >-0.000485</td>\n",
       "      <td id=\"T_2abc7_row0_col7\" class=\"data row0 col7\" >-0.010380</td>\n",
       "      <td id=\"T_2abc7_row0_col8\" class=\"data row0 col8\" >-0.003429</td>\n",
       "      <td id=\"T_2abc7_row0_col9\" class=\"data row0 col9\" >-0.002032</td>\n",
       "      <td id=\"T_2abc7_row0_col10\" class=\"data row0 col10\" >0.005092</td>\n",
       "      <td id=\"T_2abc7_row0_col11\" class=\"data row0 col11\" >0.000985</td>\n",
       "      <td id=\"T_2abc7_row0_col12\" class=\"data row0 col12\" >0.001156</td>\n",
       "      <td id=\"T_2abc7_row0_col13\" class=\"data row0 col13\" >-0.000191</td>\n",
       "      <td id=\"T_2abc7_row0_col14\" class=\"data row0 col14\" >-0.007230</td>\n",
       "      <td id=\"T_2abc7_row0_col15\" class=\"data row0 col15\" >-0.011754</td>\n",
       "      <td id=\"T_2abc7_row0_col16\" class=\"data row0 col16\" >0.005209</td>\n",
       "      <td id=\"T_2abc7_row0_col17\" class=\"data row0 col17\" >0.014569</td>\n",
       "      <td id=\"T_2abc7_row0_col18\" class=\"data row0 col18\" >-0.000048</td>\n",
       "      <td id=\"T_2abc7_row0_col19\" class=\"data row0 col19\" >-0.008612</td>\n",
       "    </tr>\n",
       "    <tr>\n",
       "      <th id=\"T_2abc7_level0_row1\" class=\"row_heading level0 row1\" >SeniorCitizen</th>\n",
       "      <td id=\"T_2abc7_row1_col0\" class=\"data row1 col0\" >0.001874</td>\n",
       "      <td id=\"T_2abc7_row1_col1\" class=\"data row1 col1\" >1.000000</td>\n",
       "      <td id=\"T_2abc7_row1_col2\" class=\"data row1 col2\" >-0.016479</td>\n",
       "      <td id=\"T_2abc7_row1_col3\" class=\"data row1 col3\" >0.211185</td>\n",
       "      <td id=\"T_2abc7_row1_col4\" class=\"data row1 col4\" >0.016567</td>\n",
       "      <td id=\"T_2abc7_row1_col5\" class=\"data row1 col5\" >-0.008576</td>\n",
       "      <td id=\"T_2abc7_row1_col6\" class=\"data row1 col6\" >-0.099883</td>\n",
       "      <td id=\"T_2abc7_row1_col7\" class=\"data row1 col7\" >-0.259390</td>\n",
       "      <td id=\"T_2abc7_row1_col8\" class=\"data row1 col8\" >0.210897</td>\n",
       "      <td id=\"T_2abc7_row1_col9\" class=\"data row1 col9\" >0.152780</td>\n",
       "      <td id=\"T_2abc7_row1_col10\" class=\"data row1 col10\" >0.157095</td>\n",
       "      <td id=\"T_2abc7_row1_col11\" class=\"data row1 col11\" >0.223770</td>\n",
       "      <td id=\"T_2abc7_row1_col12\" class=\"data row1 col12\" >0.130130</td>\n",
       "      <td id=\"T_2abc7_row1_col13\" class=\"data row1 col13\" >0.120802</td>\n",
       "      <td id=\"T_2abc7_row1_col14\" class=\"data row1 col14\" >0.046573</td>\n",
       "      <td id=\"T_2abc7_row1_col15\" class=\"data row1 col15\" >-0.156530</td>\n",
       "      <td id=\"T_2abc7_row1_col16\" class=\"data row1 col16\" >-0.093704</td>\n",
       "      <td id=\"T_2abc7_row1_col17\" class=\"data row1 col17\" >0.220173</td>\n",
       "      <td id=\"T_2abc7_row1_col18\" class=\"data row1 col18\" >0.102411</td>\n",
       "      <td id=\"T_2abc7_row1_col19\" class=\"data row1 col19\" >-0.150889</td>\n",
       "    </tr>\n",
       "    <tr>\n",
       "      <th id=\"T_2abc7_level0_row2\" class=\"row_heading level0 row2\" >Partner</th>\n",
       "      <td id=\"T_2abc7_row2_col0\" class=\"data row2 col0\" >-0.001808</td>\n",
       "      <td id=\"T_2abc7_row2_col1\" class=\"data row2 col1\" >-0.016479</td>\n",
       "      <td id=\"T_2abc7_row2_col2\" class=\"data row2 col2\" >1.000000</td>\n",
       "      <td id=\"T_2abc7_row2_col3\" class=\"data row2 col3\" >0.452676</td>\n",
       "      <td id=\"T_2abc7_row2_col4\" class=\"data row2 col4\" >-0.379697</td>\n",
       "      <td id=\"T_2abc7_row2_col5\" class=\"data row2 col5\" >0.017706</td>\n",
       "      <td id=\"T_2abc7_row2_col6\" class=\"data row2 col6\" >0.090981</td>\n",
       "      <td id=\"T_2abc7_row2_col7\" class=\"data row2 col7\" >-0.000132</td>\n",
       "      <td id=\"T_2abc7_row2_col8\" class=\"data row2 col8\" >0.081850</td>\n",
       "      <td id=\"T_2abc7_row2_col9\" class=\"data row2 col9\" >0.087055</td>\n",
       "      <td id=\"T_2abc7_row2_col10\" class=\"data row2 col10\" >0.094451</td>\n",
       "      <td id=\"T_2abc7_row2_col11\" class=\"data row2 col11\" >0.069072</td>\n",
       "      <td id=\"T_2abc7_row2_col12\" class=\"data row2 col12\" >0.080127</td>\n",
       "      <td id=\"T_2abc7_row2_col13\" class=\"data row2 col13\" >0.075779</td>\n",
       "      <td id=\"T_2abc7_row2_col14\" class=\"data row2 col14\" >0.108052</td>\n",
       "      <td id=\"T_2abc7_row2_col15\" class=\"data row2 col15\" >-0.014877</td>\n",
       "      <td id=\"T_2abc7_row2_col16\" class=\"data row2 col16\" >-0.133115</td>\n",
       "      <td id=\"T_2abc7_row2_col17\" class=\"data row2 col17\" >-0.096848</td>\n",
       "      <td id=\"T_2abc7_row2_col18\" class=\"data row2 col18\" >-0.319072</td>\n",
       "      <td id=\"T_2abc7_row2_col19\" class=\"data row2 col19\" >-0.150448</td>\n",
       "    </tr>\n",
       "    <tr>\n",
       "      <th id=\"T_2abc7_level0_row3\" class=\"row_heading level0 row3\" >Dependents</th>\n",
       "      <td id=\"T_2abc7_row3_col0\" class=\"data row3 col0\" >0.010517</td>\n",
       "      <td id=\"T_2abc7_row3_col1\" class=\"data row3 col1\" >0.211185</td>\n",
       "      <td id=\"T_2abc7_row3_col2\" class=\"data row3 col2\" >0.452676</td>\n",
       "      <td id=\"T_2abc7_row3_col3\" class=\"data row3 col3\" >1.000000</td>\n",
       "      <td id=\"T_2abc7_row3_col4\" class=\"data row3 col4\" >-0.159712</td>\n",
       "      <td id=\"T_2abc7_row3_col5\" class=\"data row3 col5\" >-0.001762</td>\n",
       "      <td id=\"T_2abc7_row3_col6\" class=\"data row3 col6\" >-0.016875</td>\n",
       "      <td id=\"T_2abc7_row3_col7\" class=\"data row3 col7\" >-0.179631</td>\n",
       "      <td id=\"T_2abc7_row3_col8\" class=\"data row3 col8\" >0.190523</td>\n",
       "      <td id=\"T_2abc7_row3_col9\" class=\"data row3 col9\" >0.162445</td>\n",
       "      <td id=\"T_2abc7_row3_col10\" class=\"data row3 col10\" >0.156439</td>\n",
       "      <td id=\"T_2abc7_row3_col11\" class=\"data row3 col11\" >0.180832</td>\n",
       "      <td id=\"T_2abc7_row3_col12\" class=\"data row3 col12\" >0.140395</td>\n",
       "      <td id=\"T_2abc7_row3_col13\" class=\"data row3 col13\" >0.125820</td>\n",
       "      <td id=\"T_2abc7_row3_col14\" class=\"data row3 col14\" >0.089060</td>\n",
       "      <td id=\"T_2abc7_row3_col15\" class=\"data row3 col15\" >-0.111377</td>\n",
       "      <td id=\"T_2abc7_row3_col16\" class=\"data row3 col16\" >-0.123844</td>\n",
       "      <td id=\"T_2abc7_row3_col17\" class=\"data row3 col17\" >0.113890</td>\n",
       "      <td id=\"T_2abc7_row3_col18\" class=\"data row3 col18\" >-0.064653</td>\n",
       "      <td id=\"T_2abc7_row3_col19\" class=\"data row3 col19\" >-0.164221</td>\n",
       "    </tr>\n",
       "    <tr>\n",
       "      <th id=\"T_2abc7_level0_row4\" class=\"row_heading level0 row4\" >tenure</th>\n",
       "      <td id=\"T_2abc7_row4_col0\" class=\"data row4 col0\" >-0.005106</td>\n",
       "      <td id=\"T_2abc7_row4_col1\" class=\"data row4 col1\" >0.016567</td>\n",
       "      <td id=\"T_2abc7_row4_col2\" class=\"data row4 col2\" >-0.379697</td>\n",
       "      <td id=\"T_2abc7_row4_col3\" class=\"data row4 col3\" >-0.159712</td>\n",
       "      <td id=\"T_2abc7_row4_col4\" class=\"data row4 col4\" >1.000000</td>\n",
       "      <td id=\"T_2abc7_row4_col5\" class=\"data row4 col5\" >-0.008448</td>\n",
       "      <td id=\"T_2abc7_row4_col6\" class=\"data row4 col6\" >-0.242279</td>\n",
       "      <td id=\"T_2abc7_row4_col7\" class=\"data row4 col7\" >-0.033230</td>\n",
       "      <td id=\"T_2abc7_row4_col8\" class=\"data row4 col8\" >-0.145298</td>\n",
       "      <td id=\"T_2abc7_row4_col9\" class=\"data row4 col9\" >-0.178651</td>\n",
       "      <td id=\"T_2abc7_row4_col10\" class=\"data row4 col10\" >-0.178649</td>\n",
       "      <td id=\"T_2abc7_row4_col11\" class=\"data row4 col11\" >-0.144459</td>\n",
       "      <td id=\"T_2abc7_row4_col12\" class=\"data row4 col12\" >-0.136145</td>\n",
       "      <td id=\"T_2abc7_row4_col13\" class=\"data row4 col13\" >-0.140781</td>\n",
       "      <td id=\"T_2abc7_row4_col14\" class=\"data row4 col14\" >-0.233426</td>\n",
       "      <td id=\"T_2abc7_row4_col15\" class=\"data row4 col15\" >-0.006152</td>\n",
       "      <td id=\"T_2abc7_row4_col16\" class=\"data row4 col16\" >0.340305</td>\n",
       "      <td id=\"T_2abc7_row4_col17\" class=\"data row4 col17\" >0.247900</td>\n",
       "      <td id=\"T_2abc7_row4_col18\" class=\"data row4 col18\" >0.825880</td>\n",
       "      <td id=\"T_2abc7_row4_col19\" class=\"data row4 col19\" >0.352229</td>\n",
       "    </tr>\n",
       "    <tr>\n",
       "      <th id=\"T_2abc7_level0_row5\" class=\"row_heading level0 row5\" >PhoneService</th>\n",
       "      <td id=\"T_2abc7_row5_col0\" class=\"data row5 col0\" >-0.006488</td>\n",
       "      <td id=\"T_2abc7_row5_col1\" class=\"data row5 col1\" >-0.008576</td>\n",
       "      <td id=\"T_2abc7_row5_col2\" class=\"data row5 col2\" >0.017706</td>\n",
       "      <td id=\"T_2abc7_row5_col3\" class=\"data row5 col3\" >-0.001762</td>\n",
       "      <td id=\"T_2abc7_row5_col4\" class=\"data row5 col4\" >-0.008448</td>\n",
       "      <td id=\"T_2abc7_row5_col5\" class=\"data row5 col5\" >1.000000</td>\n",
       "      <td id=\"T_2abc7_row5_col6\" class=\"data row5 col6\" >-0.691070</td>\n",
       "      <td id=\"T_2abc7_row5_col7\" class=\"data row5 col7\" >0.093720</td>\n",
       "      <td id=\"T_2abc7_row5_col8\" class=\"data row5 col8\" >0.125353</td>\n",
       "      <td id=\"T_2abc7_row5_col9\" class=\"data row5 col9\" >0.150338</td>\n",
       "      <td id=\"T_2abc7_row5_col10\" class=\"data row5 col10\" >0.138755</td>\n",
       "      <td id=\"T_2abc7_row5_col11\" class=\"data row5 col11\" >0.123350</td>\n",
       "      <td id=\"T_2abc7_row5_col12\" class=\"data row5 col12\" >0.171538</td>\n",
       "      <td id=\"T_2abc7_row5_col13\" class=\"data row5 col13\" >0.165205</td>\n",
       "      <td id=\"T_2abc7_row5_col14\" class=\"data row5 col14\" >0.003940</td>\n",
       "      <td id=\"T_2abc7_row5_col15\" class=\"data row5 col15\" >0.016505</td>\n",
       "      <td id=\"T_2abc7_row5_col16\" class=\"data row5 col16\" >0.004070</td>\n",
       "      <td id=\"T_2abc7_row5_col17\" class=\"data row5 col17\" >-0.247398</td>\n",
       "      <td id=\"T_2abc7_row5_col18\" class=\"data row5 col18\" >-0.113008</td>\n",
       "      <td id=\"T_2abc7_row5_col19\" class=\"data row5 col19\" >0.011942</td>\n",
       "    </tr>\n",
       "    <tr>\n",
       "      <th id=\"T_2abc7_level0_row6\" class=\"row_heading level0 row6\" >MultipleLines</th>\n",
       "      <td id=\"T_2abc7_row6_col0\" class=\"data row6 col0\" >-0.000485</td>\n",
       "      <td id=\"T_2abc7_row6_col1\" class=\"data row6 col1\" >-0.099883</td>\n",
       "      <td id=\"T_2abc7_row6_col2\" class=\"data row6 col2\" >0.090981</td>\n",
       "      <td id=\"T_2abc7_row6_col3\" class=\"data row6 col3\" >-0.016875</td>\n",
       "      <td id=\"T_2abc7_row6_col4\" class=\"data row6 col4\" >-0.242279</td>\n",
       "      <td id=\"T_2abc7_row6_col5\" class=\"data row6 col5\" >-0.691070</td>\n",
       "      <td id=\"T_2abc7_row6_col6\" class=\"data row6 col6\" >1.000000</td>\n",
       "      <td id=\"T_2abc7_row6_col7\" class=\"data row6 col7\" >0.174989</td>\n",
       "      <td id=\"T_2abc7_row6_col8\" class=\"data row6 col8\" >-0.235021</td>\n",
       "      <td id=\"T_2abc7_row6_col9\" class=\"data row6 col9\" >-0.210372</td>\n",
       "      <td id=\"T_2abc7_row6_col10\" class=\"data row6 col10\" >-0.200463</td>\n",
       "      <td id=\"T_2abc7_row6_col11\" class=\"data row6 col11\" >-0.232155</td>\n",
       "      <td id=\"T_2abc7_row6_col12\" class=\"data row6 col12\" >-0.202414</td>\n",
       "      <td id=\"T_2abc7_row6_col13\" class=\"data row6 col13\" >-0.195815</td>\n",
       "      <td id=\"T_2abc7_row6_col14\" class=\"data row6 col14\" >0.049224</td>\n",
       "      <td id=\"T_2abc7_row6_col15\" class=\"data row6 col15\" >0.108230</td>\n",
       "      <td id=\"T_2abc7_row6_col16\" class=\"data row6 col16\" >-0.030659</td>\n",
       "      <td id=\"T_2abc7_row6_col17\" class=\"data row6 col17\" >-0.146153</td>\n",
       "      <td id=\"T_2abc7_row6_col18\" class=\"data row6 col18\" >-0.251357</td>\n",
       "      <td id=\"T_2abc7_row6_col19\" class=\"data row6 col19\" >0.019423</td>\n",
       "    </tr>\n",
       "    <tr>\n",
       "      <th id=\"T_2abc7_level0_row7\" class=\"row_heading level0 row7\" >InternetService</th>\n",
       "      <td id=\"T_2abc7_row7_col0\" class=\"data row7 col0\" >-0.010380</td>\n",
       "      <td id=\"T_2abc7_row7_col1\" class=\"data row7 col1\" >-0.259390</td>\n",
       "      <td id=\"T_2abc7_row7_col2\" class=\"data row7 col2\" >-0.000132</td>\n",
       "      <td id=\"T_2abc7_row7_col3\" class=\"data row7 col3\" >-0.179631</td>\n",
       "      <td id=\"T_2abc7_row7_col4\" class=\"data row7 col4\" >-0.033230</td>\n",
       "      <td id=\"T_2abc7_row7_col5\" class=\"data row7 col5\" >0.093720</td>\n",
       "      <td id=\"T_2abc7_row7_col6\" class=\"data row7 col6\" >0.174989</td>\n",
       "      <td id=\"T_2abc7_row7_col7\" class=\"data row7 col7\" >1.000000</td>\n",
       "      <td id=\"T_2abc7_row7_col8\" class=\"data row7 col8\" >-0.764943</td>\n",
       "      <td id=\"T_2abc7_row7_col9\" class=\"data row7 col9\" >-0.686403</td>\n",
       "      <td id=\"T_2abc7_row7_col10\" class=\"data row7 col10\" >-0.682448</td>\n",
       "      <td id=\"T_2abc7_row7_col11\" class=\"data row7 col11\" >-0.760985</td>\n",
       "      <td id=\"T_2abc7_row7_col12\" class=\"data row7 col12\" >-0.617704</td>\n",
       "      <td id=\"T_2abc7_row7_col13\" class=\"data row7 col13\" >-0.620005</td>\n",
       "      <td id=\"T_2abc7_row7_col14\" class=\"data row7 col14\" >-0.117963</td>\n",
       "      <td id=\"T_2abc7_row7_col15\" class=\"data row7 col15\" >0.378108</td>\n",
       "      <td id=\"T_2abc7_row7_col16\" class=\"data row7 col16\" >0.178137</td>\n",
       "      <td id=\"T_2abc7_row7_col17\" class=\"data row7 col17\" >-0.905491</td>\n",
       "      <td id=\"T_2abc7_row7_col18\" class=\"data row7 col18\" >-0.428212</td>\n",
       "      <td id=\"T_2abc7_row7_col19\" class=\"data row7 col19\" >0.316846</td>\n",
       "    </tr>\n",
       "    <tr>\n",
       "      <th id=\"T_2abc7_level0_row8\" class=\"row_heading level0 row8\" >OnlineSecurity</th>\n",
       "      <td id=\"T_2abc7_row8_col0\" class=\"data row8 col0\" >-0.003429</td>\n",
       "      <td id=\"T_2abc7_row8_col1\" class=\"data row8 col1\" >0.210897</td>\n",
       "      <td id=\"T_2abc7_row8_col2\" class=\"data row8 col2\" >0.081850</td>\n",
       "      <td id=\"T_2abc7_row8_col3\" class=\"data row8 col3\" >0.190523</td>\n",
       "      <td id=\"T_2abc7_row8_col4\" class=\"data row8 col4\" >-0.145298</td>\n",
       "      <td id=\"T_2abc7_row8_col5\" class=\"data row8 col5\" >0.125353</td>\n",
       "      <td id=\"T_2abc7_row8_col6\" class=\"data row8 col6\" >-0.235021</td>\n",
       "      <td id=\"T_2abc7_row8_col7\" class=\"data row8 col7\" >-0.764943</td>\n",
       "      <td id=\"T_2abc7_row8_col8\" class=\"data row8 col8\" >1.000000</td>\n",
       "      <td id=\"T_2abc7_row8_col9\" class=\"data row8 col9\" >0.751661</td>\n",
       "      <td id=\"T_2abc7_row8_col10\" class=\"data row8 col10\" >0.749040</td>\n",
       "      <td id=\"T_2abc7_row8_col11\" class=\"data row8 col11\" >0.791225</td>\n",
       "      <td id=\"T_2abc7_row8_col12\" class=\"data row8 col12\" >0.701976</td>\n",
       "      <td id=\"T_2abc7_row8_col13\" class=\"data row8 col13\" >0.704984</td>\n",
       "      <td id=\"T_2abc7_row8_col14\" class=\"data row8 col14\" >0.155107</td>\n",
       "      <td id=\"T_2abc7_row8_col15\" class=\"data row8 col15\" >-0.334003</td>\n",
       "      <td id=\"T_2abc7_row8_col16\" class=\"data row8 col16\" >-0.213800</td>\n",
       "      <td id=\"T_2abc7_row8_col17\" class=\"data row8 col17\" >0.621227</td>\n",
       "      <td id=\"T_2abc7_row8_col18\" class=\"data row8 col18\" >0.153234</td>\n",
       "      <td id=\"T_2abc7_row8_col19\" class=\"data row8 col19\" >-0.332819</td>\n",
       "    </tr>\n",
       "    <tr>\n",
       "      <th id=\"T_2abc7_level0_row9\" class=\"row_heading level0 row9\" >OnlineBackup</th>\n",
       "      <td id=\"T_2abc7_row9_col0\" class=\"data row9 col0\" >-0.002032</td>\n",
       "      <td id=\"T_2abc7_row9_col1\" class=\"data row9 col1\" >0.152780</td>\n",
       "      <td id=\"T_2abc7_row9_col2\" class=\"data row9 col2\" >0.087055</td>\n",
       "      <td id=\"T_2abc7_row9_col3\" class=\"data row9 col3\" >0.162445</td>\n",
       "      <td id=\"T_2abc7_row9_col4\" class=\"data row9 col4\" >-0.178651</td>\n",
       "      <td id=\"T_2abc7_row9_col5\" class=\"data row9 col5\" >0.150338</td>\n",
       "      <td id=\"T_2abc7_row9_col6\" class=\"data row9 col6\" >-0.210372</td>\n",
       "      <td id=\"T_2abc7_row9_col7\" class=\"data row9 col7\" >-0.686403</td>\n",
       "      <td id=\"T_2abc7_row9_col8\" class=\"data row9 col8\" >0.751661</td>\n",
       "      <td id=\"T_2abc7_row9_col9\" class=\"data row9 col9\" >1.000000</td>\n",
       "      <td id=\"T_2abc7_row9_col10\" class=\"data row9 col10\" >0.740604</td>\n",
       "      <td id=\"T_2abc7_row9_col11\" class=\"data row9 col11\" >0.754095</td>\n",
       "      <td id=\"T_2abc7_row9_col12\" class=\"data row9 col12\" >0.720671</td>\n",
       "      <td id=\"T_2abc7_row9_col13\" class=\"data row9 col13\" >0.716700</td>\n",
       "      <td id=\"T_2abc7_row9_col14\" class=\"data row9 col14\" >0.135381</td>\n",
       "      <td id=\"T_2abc7_row9_col15\" class=\"data row9 col15\" >-0.262402</td>\n",
       "      <td id=\"T_2abc7_row9_col16\" class=\"data row9 col16\" >-0.182909</td>\n",
       "      <td id=\"T_2abc7_row9_col17\" class=\"data row9 col17\" >0.538454</td>\n",
       "      <td id=\"T_2abc7_row9_col18\" class=\"data row9 col18\" >0.085017</td>\n",
       "      <td id=\"T_2abc7_row9_col19\" class=\"data row9 col19\" >-0.291449</td>\n",
       "    </tr>\n",
       "    <tr>\n",
       "      <th id=\"T_2abc7_level0_row10\" class=\"row_heading level0 row10\" >DeviceProtection</th>\n",
       "      <td id=\"T_2abc7_row10_col0\" class=\"data row10 col0\" >0.005092</td>\n",
       "      <td id=\"T_2abc7_row10_col1\" class=\"data row10 col1\" >0.157095</td>\n",
       "      <td id=\"T_2abc7_row10_col2\" class=\"data row10 col2\" >0.094451</td>\n",
       "      <td id=\"T_2abc7_row10_col3\" class=\"data row10 col3\" >0.156439</td>\n",
       "      <td id=\"T_2abc7_row10_col4\" class=\"data row10 col4\" >-0.178649</td>\n",
       "      <td id=\"T_2abc7_row10_col5\" class=\"data row10 col5\" >0.138755</td>\n",
       "      <td id=\"T_2abc7_row10_col6\" class=\"data row10 col6\" >-0.200463</td>\n",
       "      <td id=\"T_2abc7_row10_col7\" class=\"data row10 col7\" >-0.682448</td>\n",
       "      <td id=\"T_2abc7_row10_col8\" class=\"data row10 col8\" >0.749040</td>\n",
       "      <td id=\"T_2abc7_row10_col9\" class=\"data row10 col9\" >0.740604</td>\n",
       "      <td id=\"T_2abc7_row10_col10\" class=\"data row10 col10\" >1.000000</td>\n",
       "      <td id=\"T_2abc7_row10_col11\" class=\"data row10 col11\" >0.767970</td>\n",
       "      <td id=\"T_2abc7_row10_col12\" class=\"data row10 col12\" >0.763279</td>\n",
       "      <td id=\"T_2abc7_row10_col13\" class=\"data row10 col13\" >0.766821</td>\n",
       "      <td id=\"T_2abc7_row10_col14\" class=\"data row10 col14\" >0.149259</td>\n",
       "      <td id=\"T_2abc7_row10_col15\" class=\"data row10 col15\" >-0.276326</td>\n",
       "      <td id=\"T_2abc7_row10_col16\" class=\"data row10 col16\" >-0.191746</td>\n",
       "      <td id=\"T_2abc7_row10_col17\" class=\"data row10 col17\" >0.513440</td>\n",
       "      <td id=\"T_2abc7_row10_col18\" class=\"data row10 col18\" >0.077394</td>\n",
       "      <td id=\"T_2abc7_row10_col19\" class=\"data row10 col19\" >-0.281465</td>\n",
       "    </tr>\n",
       "    <tr>\n",
       "      <th id=\"T_2abc7_level0_row11\" class=\"row_heading level0 row11\" >TechSupport</th>\n",
       "      <td id=\"T_2abc7_row11_col0\" class=\"data row11 col0\" >0.000985</td>\n",
       "      <td id=\"T_2abc7_row11_col1\" class=\"data row11 col1\" >0.223770</td>\n",
       "      <td id=\"T_2abc7_row11_col2\" class=\"data row11 col2\" >0.069072</td>\n",
       "      <td id=\"T_2abc7_row11_col3\" class=\"data row11 col3\" >0.180832</td>\n",
       "      <td id=\"T_2abc7_row11_col4\" class=\"data row11 col4\" >-0.144459</td>\n",
       "      <td id=\"T_2abc7_row11_col5\" class=\"data row11 col5\" >0.123350</td>\n",
       "      <td id=\"T_2abc7_row11_col6\" class=\"data row11 col6\" >-0.232155</td>\n",
       "      <td id=\"T_2abc7_row11_col7\" class=\"data row11 col7\" >-0.760985</td>\n",
       "      <td id=\"T_2abc7_row11_col8\" class=\"data row11 col8\" >0.791225</td>\n",
       "      <td id=\"T_2abc7_row11_col9\" class=\"data row11 col9\" >0.754095</td>\n",
       "      <td id=\"T_2abc7_row11_col10\" class=\"data row11 col10\" >0.767970</td>\n",
       "      <td id=\"T_2abc7_row11_col11\" class=\"data row11 col11\" >1.000000</td>\n",
       "      <td id=\"T_2abc7_row11_col12\" class=\"data row11 col12\" >0.737578</td>\n",
       "      <td id=\"T_2abc7_row11_col13\" class=\"data row11 col13\" >0.737123</td>\n",
       "      <td id=\"T_2abc7_row11_col14\" class=\"data row11 col14\" >0.174796</td>\n",
       "      <td id=\"T_2abc7_row11_col15\" class=\"data row11 col15\" >-0.310749</td>\n",
       "      <td id=\"T_2abc7_row11_col16\" class=\"data row11 col16\" >-0.216878</td>\n",
       "      <td id=\"T_2abc7_row11_col17\" class=\"data row11 col17\" >0.597594</td>\n",
       "      <td id=\"T_2abc7_row11_col18\" class=\"data row11 col18\" >0.141011</td>\n",
       "      <td id=\"T_2abc7_row11_col19\" class=\"data row11 col19\" >-0.329852</td>\n",
       "    </tr>\n",
       "    <tr>\n",
       "      <th id=\"T_2abc7_level0_row12\" class=\"row_heading level0 row12\" >StreamingTV</th>\n",
       "      <td id=\"T_2abc7_row12_col0\" class=\"data row12 col0\" >0.001156</td>\n",
       "      <td id=\"T_2abc7_row12_col1\" class=\"data row12 col1\" >0.130130</td>\n",
       "      <td id=\"T_2abc7_row12_col2\" class=\"data row12 col2\" >0.080127</td>\n",
       "      <td id=\"T_2abc7_row12_col3\" class=\"data row12 col3\" >0.140395</td>\n",
       "      <td id=\"T_2abc7_row12_col4\" class=\"data row12 col4\" >-0.136145</td>\n",
       "      <td id=\"T_2abc7_row12_col5\" class=\"data row12 col5\" >0.171538</td>\n",
       "      <td id=\"T_2abc7_row12_col6\" class=\"data row12 col6\" >-0.202414</td>\n",
       "      <td id=\"T_2abc7_row12_col7\" class=\"data row12 col7\" >-0.617704</td>\n",
       "      <td id=\"T_2abc7_row12_col8\" class=\"data row12 col8\" >0.701976</td>\n",
       "      <td id=\"T_2abc7_row12_col9\" class=\"data row12 col9\" >0.720671</td>\n",
       "      <td id=\"T_2abc7_row12_col10\" class=\"data row12 col10\" >0.763279</td>\n",
       "      <td id=\"T_2abc7_row12_col11\" class=\"data row12 col11\" >0.737578</td>\n",
       "      <td id=\"T_2abc7_row12_col12\" class=\"data row12 col12\" >1.000000</td>\n",
       "      <td id=\"T_2abc7_row12_col13\" class=\"data row12 col13\" >0.809608</td>\n",
       "      <td id=\"T_2abc7_row12_col14\" class=\"data row12 col14\" >0.130933</td>\n",
       "      <td id=\"T_2abc7_row12_col15\" class=\"data row12 col15\" >-0.203907</td>\n",
       "      <td id=\"T_2abc7_row12_col16\" class=\"data row12 col16\" >-0.117618</td>\n",
       "      <td id=\"T_2abc7_row12_col17\" class=\"data row12 col17\" >0.423067</td>\n",
       "      <td id=\"T_2abc7_row12_col18\" class=\"data row12 col18\" >0.075697</td>\n",
       "      <td id=\"T_2abc7_row12_col19\" class=\"data row12 col19\" >-0.205742</td>\n",
       "    </tr>\n",
       "    <tr>\n",
       "      <th id=\"T_2abc7_level0_row13\" class=\"row_heading level0 row13\" >StreamingMovies</th>\n",
       "      <td id=\"T_2abc7_row13_col0\" class=\"data row13 col0\" >-0.000191</td>\n",
       "      <td id=\"T_2abc7_row13_col1\" class=\"data row13 col1\" >0.120802</td>\n",
       "      <td id=\"T_2abc7_row13_col2\" class=\"data row13 col2\" >0.075779</td>\n",
       "      <td id=\"T_2abc7_row13_col3\" class=\"data row13 col3\" >0.125820</td>\n",
       "      <td id=\"T_2abc7_row13_col4\" class=\"data row13 col4\" >-0.140781</td>\n",
       "      <td id=\"T_2abc7_row13_col5\" class=\"data row13 col5\" >0.165205</td>\n",
       "      <td id=\"T_2abc7_row13_col6\" class=\"data row13 col6\" >-0.195815</td>\n",
       "      <td id=\"T_2abc7_row13_col7\" class=\"data row13 col7\" >-0.620005</td>\n",
       "      <td id=\"T_2abc7_row13_col8\" class=\"data row13 col8\" >0.704984</td>\n",
       "      <td id=\"T_2abc7_row13_col9\" class=\"data row13 col9\" >0.716700</td>\n",
       "      <td id=\"T_2abc7_row13_col10\" class=\"data row13 col10\" >0.766821</td>\n",
       "      <td id=\"T_2abc7_row13_col11\" class=\"data row13 col11\" >0.737123</td>\n",
       "      <td id=\"T_2abc7_row13_col12\" class=\"data row13 col12\" >0.809608</td>\n",
       "      <td id=\"T_2abc7_row13_col13\" class=\"data row13 col13\" >1.000000</td>\n",
       "      <td id=\"T_2abc7_row13_col14\" class=\"data row13 col14\" >0.130692</td>\n",
       "      <td id=\"T_2abc7_row13_col15\" class=\"data row13 col15\" >-0.211818</td>\n",
       "      <td id=\"T_2abc7_row13_col16\" class=\"data row13 col16\" >-0.123869</td>\n",
       "      <td id=\"T_2abc7_row13_col17\" class=\"data row13 col17\" >0.424598</td>\n",
       "      <td id=\"T_2abc7_row13_col18\" class=\"data row13 col18\" >0.072571</td>\n",
       "      <td id=\"T_2abc7_row13_col19\" class=\"data row13 col19\" >-0.207256</td>\n",
       "    </tr>\n",
       "    <tr>\n",
       "      <th id=\"T_2abc7_level0_row14\" class=\"row_heading level0 row14\" >Contract</th>\n",
       "      <td id=\"T_2abc7_row14_col0\" class=\"data row14 col0\" >-0.007230</td>\n",
       "      <td id=\"T_2abc7_row14_col1\" class=\"data row14 col1\" >0.046573</td>\n",
       "      <td id=\"T_2abc7_row14_col2\" class=\"data row14 col2\" >0.108052</td>\n",
       "      <td id=\"T_2abc7_row14_col3\" class=\"data row14 col3\" >0.089060</td>\n",
       "      <td id=\"T_2abc7_row14_col4\" class=\"data row14 col4\" >-0.233426</td>\n",
       "      <td id=\"T_2abc7_row14_col5\" class=\"data row14 col5\" >0.003940</td>\n",
       "      <td id=\"T_2abc7_row14_col6\" class=\"data row14 col6\" >0.049224</td>\n",
       "      <td id=\"T_2abc7_row14_col7\" class=\"data row14 col7\" >-0.117963</td>\n",
       "      <td id=\"T_2abc7_row14_col8\" class=\"data row14 col8\" >0.155107</td>\n",
       "      <td id=\"T_2abc7_row14_col9\" class=\"data row14 col9\" >0.135381</td>\n",
       "      <td id=\"T_2abc7_row14_col10\" class=\"data row14 col10\" >0.149259</td>\n",
       "      <td id=\"T_2abc7_row14_col11\" class=\"data row14 col11\" >0.174796</td>\n",
       "      <td id=\"T_2abc7_row14_col12\" class=\"data row14 col12\" >0.130933</td>\n",
       "      <td id=\"T_2abc7_row14_col13\" class=\"data row14 col13\" >0.130692</td>\n",
       "      <td id=\"T_2abc7_row14_col14\" class=\"data row14 col14\" >1.000000</td>\n",
       "      <td id=\"T_2abc7_row14_col15\" class=\"data row14 col15\" >-0.063170</td>\n",
       "      <td id=\"T_2abc7_row14_col16\" class=\"data row14 col16\" >-0.119532</td>\n",
       "      <td id=\"T_2abc7_row14_col17\" class=\"data row14 col17\" >0.050631</td>\n",
       "      <td id=\"T_2abc7_row14_col18\" class=\"data row14 col18\" >-0.124651</td>\n",
       "      <td id=\"T_2abc7_row14_col19\" class=\"data row14 col19\" >-0.084919</td>\n",
       "    </tr>\n",
       "    <tr>\n",
       "      <th id=\"T_2abc7_level0_row15\" class=\"row_heading level0 row15\" >PaperlessBilling</th>\n",
       "      <td id=\"T_2abc7_row15_col0\" class=\"data row15 col0\" >-0.011754</td>\n",
       "      <td id=\"T_2abc7_row15_col1\" class=\"data row15 col1\" >-0.156530</td>\n",
       "      <td id=\"T_2abc7_row15_col2\" class=\"data row15 col2\" >-0.014877</td>\n",
       "      <td id=\"T_2abc7_row15_col3\" class=\"data row15 col3\" >-0.111377</td>\n",
       "      <td id=\"T_2abc7_row15_col4\" class=\"data row15 col4\" >-0.006152</td>\n",
       "      <td id=\"T_2abc7_row15_col5\" class=\"data row15 col5\" >0.016505</td>\n",
       "      <td id=\"T_2abc7_row15_col6\" class=\"data row15 col6\" >0.108230</td>\n",
       "      <td id=\"T_2abc7_row15_col7\" class=\"data row15 col7\" >0.378108</td>\n",
       "      <td id=\"T_2abc7_row15_col8\" class=\"data row15 col8\" >-0.334003</td>\n",
       "      <td id=\"T_2abc7_row15_col9\" class=\"data row15 col9\" >-0.262402</td>\n",
       "      <td id=\"T_2abc7_row15_col10\" class=\"data row15 col10\" >-0.276326</td>\n",
       "      <td id=\"T_2abc7_row15_col11\" class=\"data row15 col11\" >-0.310749</td>\n",
       "      <td id=\"T_2abc7_row15_col12\" class=\"data row15 col12\" >-0.203907</td>\n",
       "      <td id=\"T_2abc7_row15_col13\" class=\"data row15 col13\" >-0.211818</td>\n",
       "      <td id=\"T_2abc7_row15_col14\" class=\"data row15 col14\" >-0.063170</td>\n",
       "      <td id=\"T_2abc7_row15_col15\" class=\"data row15 col15\" >1.000000</td>\n",
       "      <td id=\"T_2abc7_row15_col16\" class=\"data row15 col16\" >0.101480</td>\n",
       "      <td id=\"T_2abc7_row15_col17\" class=\"data row15 col17\" >-0.352150</td>\n",
       "      <td id=\"T_2abc7_row15_col18\" class=\"data row15 col18\" >-0.157830</td>\n",
       "      <td id=\"T_2abc7_row15_col19\" class=\"data row15 col19\" >0.191825</td>\n",
       "    </tr>\n",
       "    <tr>\n",
       "      <th id=\"T_2abc7_level0_row16\" class=\"row_heading level0 row16\" >PaymentMethod</th>\n",
       "      <td id=\"T_2abc7_row16_col0\" class=\"data row16 col0\" >0.005209</td>\n",
       "      <td id=\"T_2abc7_row16_col1\" class=\"data row16 col1\" >-0.093704</td>\n",
       "      <td id=\"T_2abc7_row16_col2\" class=\"data row16 col2\" >-0.133115</td>\n",
       "      <td id=\"T_2abc7_row16_col3\" class=\"data row16 col3\" >-0.123844</td>\n",
       "      <td id=\"T_2abc7_row16_col4\" class=\"data row16 col4\" >0.340305</td>\n",
       "      <td id=\"T_2abc7_row16_col5\" class=\"data row16 col5\" >0.004070</td>\n",
       "      <td id=\"T_2abc7_row16_col6\" class=\"data row16 col6\" >-0.030659</td>\n",
       "      <td id=\"T_2abc7_row16_col7\" class=\"data row16 col7\" >0.178137</td>\n",
       "      <td id=\"T_2abc7_row16_col8\" class=\"data row16 col8\" >-0.213800</td>\n",
       "      <td id=\"T_2abc7_row16_col9\" class=\"data row16 col9\" >-0.182909</td>\n",
       "      <td id=\"T_2abc7_row16_col10\" class=\"data row16 col10\" >-0.191746</td>\n",
       "      <td id=\"T_2abc7_row16_col11\" class=\"data row16 col11\" >-0.216878</td>\n",
       "      <td id=\"T_2abc7_row16_col12\" class=\"data row16 col12\" >-0.117618</td>\n",
       "      <td id=\"T_2abc7_row16_col13\" class=\"data row16 col13\" >-0.123869</td>\n",
       "      <td id=\"T_2abc7_row16_col14\" class=\"data row16 col14\" >-0.119532</td>\n",
       "      <td id=\"T_2abc7_row16_col15\" class=\"data row16 col15\" >0.101480</td>\n",
       "      <td id=\"T_2abc7_row16_col16\" class=\"data row16 col16\" >1.000000</td>\n",
       "      <td id=\"T_2abc7_row16_col17\" class=\"data row16 col17\" >-0.074353</td>\n",
       "      <td id=\"T_2abc7_row16_col18\" class=\"data row16 col18\" >0.222694</td>\n",
       "      <td id=\"T_2abc7_row16_col19\" class=\"data row16 col19\" >0.262818</td>\n",
       "    </tr>\n",
       "    <tr>\n",
       "      <th id=\"T_2abc7_level0_row17\" class=\"row_heading level0 row17\" >MonthlyCharges</th>\n",
       "      <td id=\"T_2abc7_row17_col0\" class=\"data row17 col0\" >0.014569</td>\n",
       "      <td id=\"T_2abc7_row17_col1\" class=\"data row17 col1\" >0.220173</td>\n",
       "      <td id=\"T_2abc7_row17_col2\" class=\"data row17 col2\" >-0.096848</td>\n",
       "      <td id=\"T_2abc7_row17_col3\" class=\"data row17 col3\" >0.113890</td>\n",
       "      <td id=\"T_2abc7_row17_col4\" class=\"data row17 col4\" >0.247900</td>\n",
       "      <td id=\"T_2abc7_row17_col5\" class=\"data row17 col5\" >-0.247398</td>\n",
       "      <td id=\"T_2abc7_row17_col6\" class=\"data row17 col6\" >-0.146153</td>\n",
       "      <td id=\"T_2abc7_row17_col7\" class=\"data row17 col7\" >-0.905491</td>\n",
       "      <td id=\"T_2abc7_row17_col8\" class=\"data row17 col8\" >0.621227</td>\n",
       "      <td id=\"T_2abc7_row17_col9\" class=\"data row17 col9\" >0.538454</td>\n",
       "      <td id=\"T_2abc7_row17_col10\" class=\"data row17 col10\" >0.513440</td>\n",
       "      <td id=\"T_2abc7_row17_col11\" class=\"data row17 col11\" >0.597594</td>\n",
       "      <td id=\"T_2abc7_row17_col12\" class=\"data row17 col12\" >0.423067</td>\n",
       "      <td id=\"T_2abc7_row17_col13\" class=\"data row17 col13\" >0.424598</td>\n",
       "      <td id=\"T_2abc7_row17_col14\" class=\"data row17 col14\" >0.050631</td>\n",
       "      <td id=\"T_2abc7_row17_col15\" class=\"data row17 col15\" >-0.352150</td>\n",
       "      <td id=\"T_2abc7_row17_col16\" class=\"data row17 col16\" >-0.074353</td>\n",
       "      <td id=\"T_2abc7_row17_col17\" class=\"data row17 col17\" >1.000000</td>\n",
       "      <td id=\"T_2abc7_row17_col18\" class=\"data row17 col18\" >0.651065</td>\n",
       "      <td id=\"T_2abc7_row17_col19\" class=\"data row17 col19\" >-0.193356</td>\n",
       "    </tr>\n",
       "    <tr>\n",
       "      <th id=\"T_2abc7_level0_row18\" class=\"row_heading level0 row18\" >TotalCharges</th>\n",
       "      <td id=\"T_2abc7_row18_col0\" class=\"data row18 col0\" >-0.000048</td>\n",
       "      <td id=\"T_2abc7_row18_col1\" class=\"data row18 col1\" >0.102411</td>\n",
       "      <td id=\"T_2abc7_row18_col2\" class=\"data row18 col2\" >-0.319072</td>\n",
       "      <td id=\"T_2abc7_row18_col3\" class=\"data row18 col3\" >-0.064653</td>\n",
       "      <td id=\"T_2abc7_row18_col4\" class=\"data row18 col4\" >0.825880</td>\n",
       "      <td id=\"T_2abc7_row18_col5\" class=\"data row18 col5\" >-0.113008</td>\n",
       "      <td id=\"T_2abc7_row18_col6\" class=\"data row18 col6\" >-0.251357</td>\n",
       "      <td id=\"T_2abc7_row18_col7\" class=\"data row18 col7\" >-0.428212</td>\n",
       "      <td id=\"T_2abc7_row18_col8\" class=\"data row18 col8\" >0.153234</td>\n",
       "      <td id=\"T_2abc7_row18_col9\" class=\"data row18 col9\" >0.085017</td>\n",
       "      <td id=\"T_2abc7_row18_col10\" class=\"data row18 col10\" >0.077394</td>\n",
       "      <td id=\"T_2abc7_row18_col11\" class=\"data row18 col11\" >0.141011</td>\n",
       "      <td id=\"T_2abc7_row18_col12\" class=\"data row18 col12\" >0.075697</td>\n",
       "      <td id=\"T_2abc7_row18_col13\" class=\"data row18 col13\" >0.072571</td>\n",
       "      <td id=\"T_2abc7_row18_col14\" class=\"data row18 col14\" >-0.124651</td>\n",
       "      <td id=\"T_2abc7_row18_col15\" class=\"data row18 col15\" >-0.157830</td>\n",
       "      <td id=\"T_2abc7_row18_col16\" class=\"data row18 col16\" >0.222694</td>\n",
       "      <td id=\"T_2abc7_row18_col17\" class=\"data row18 col17\" >0.651065</td>\n",
       "      <td id=\"T_2abc7_row18_col18\" class=\"data row18 col18\" >1.000000</td>\n",
       "      <td id=\"T_2abc7_row18_col19\" class=\"data row18 col19\" >0.199484</td>\n",
       "    </tr>\n",
       "    <tr>\n",
       "      <th id=\"T_2abc7_level0_row19\" class=\"row_heading level0 row19\" >Churn</th>\n",
       "      <td id=\"T_2abc7_row19_col0\" class=\"data row19 col0\" >-0.008612</td>\n",
       "      <td id=\"T_2abc7_row19_col1\" class=\"data row19 col1\" >-0.150889</td>\n",
       "      <td id=\"T_2abc7_row19_col2\" class=\"data row19 col2\" >-0.150448</td>\n",
       "      <td id=\"T_2abc7_row19_col3\" class=\"data row19 col3\" >-0.164221</td>\n",
       "      <td id=\"T_2abc7_row19_col4\" class=\"data row19 col4\" >0.352229</td>\n",
       "      <td id=\"T_2abc7_row19_col5\" class=\"data row19 col5\" >0.011942</td>\n",
       "      <td id=\"T_2abc7_row19_col6\" class=\"data row19 col6\" >0.019423</td>\n",
       "      <td id=\"T_2abc7_row19_col7\" class=\"data row19 col7\" >0.316846</td>\n",
       "      <td id=\"T_2abc7_row19_col8\" class=\"data row19 col8\" >-0.332819</td>\n",
       "      <td id=\"T_2abc7_row19_col9\" class=\"data row19 col9\" >-0.291449</td>\n",
       "      <td id=\"T_2abc7_row19_col10\" class=\"data row19 col10\" >-0.281465</td>\n",
       "      <td id=\"T_2abc7_row19_col11\" class=\"data row19 col11\" >-0.329852</td>\n",
       "      <td id=\"T_2abc7_row19_col12\" class=\"data row19 col12\" >-0.205742</td>\n",
       "      <td id=\"T_2abc7_row19_col13\" class=\"data row19 col13\" >-0.207256</td>\n",
       "      <td id=\"T_2abc7_row19_col14\" class=\"data row19 col14\" >-0.084919</td>\n",
       "      <td id=\"T_2abc7_row19_col15\" class=\"data row19 col15\" >0.191825</td>\n",
       "      <td id=\"T_2abc7_row19_col16\" class=\"data row19 col16\" >0.262818</td>\n",
       "      <td id=\"T_2abc7_row19_col17\" class=\"data row19 col17\" >-0.193356</td>\n",
       "      <td id=\"T_2abc7_row19_col18\" class=\"data row19 col18\" >0.199484</td>\n",
       "      <td id=\"T_2abc7_row19_col19\" class=\"data row19 col19\" >1.000000</td>\n",
       "    </tr>\n",
       "  </tbody>\n",
       "</table>\n"
      ],
      "text/plain": [
       "<pandas.io.formats.style.Styler at 0x7fae85657040>"
      ]
     },
     "execution_count": 48,
     "metadata": {},
     "output_type": "execute_result"
    },
    {
     "data": {
      "text/plain": [
       "<Figure size 1224x864 with 0 Axes>"
      ]
     },
     "metadata": {},
     "output_type": "display_data"
    }
   ],
   "source": [
    "plt.figure(figsize=(17,12))\n",
    "ds.corr().style.background_gradient()"
   ]
  },
  {
   "cell_type": "markdown",
   "id": "93b98825",
   "metadata": {
    "id": "abeb3d2a-c722-49f1-8feb-81d4186212b1"
   },
   "source": [
    "Nous constatons notre variable de sortie est corrélée à toute les les autres variables mais cette corrélation est faible pour certains tel que gender, phoneService et multiline.  \n",
    "\n",
    "dans la partie qui suit nous allons supprimer pour rester uniquement avec les variable fortement corrélées."
   ]
  },
  {
   "cell_type": "code",
   "execution_count": 49,
   "id": "9f6b21b5",
   "metadata": {
    "id": "1867913d-4473-48d5-9a76-669dc7a4f7db",
    "outputId": "96e8216c-0996-4c2d-80e0-44b50185ef3a"
   },
   "outputs": [
    {
     "data": {
      "text/plain": [
       "Contract            0.084919\n",
       "Partner             0.150448\n",
       "SeniorCitizen       0.150889\n",
       "Dependents          0.164221\n",
       "PaperlessBilling    0.191825\n",
       "MonthlyCharges      0.193356\n",
       "TotalCharges        0.199484\n",
       "StreamingTV         0.205742\n",
       "StreamingMovies     0.207256\n",
       "PaymentMethod       0.262818\n",
       "DeviceProtection    0.281465\n",
       "OnlineBackup        0.291449\n",
       "InternetService     0.316846\n",
       "TechSupport         0.329852\n",
       "OnlineSecurity      0.332819\n",
       "tenure              0.352229\n",
       "Churn               1.000000\n",
       "Name: Churn, dtype: float64"
      ]
     },
     "execution_count": 49,
     "metadata": {},
     "output_type": "execute_result"
    }
   ],
   "source": [
    "corr = ds.corr()\n",
    "corr_Churn = abs(corr['Churn'])\n",
    "highest_corr = corr_Churn[corr_Churn >0.02]\n",
    "highest_corr.sort_values(ascending=True)"
   ]
  },
  {
   "cell_type": "code",
   "execution_count": 50,
   "id": "a48b30f1",
   "metadata": {
    "id": "62c6ef1d-4ee5-4ada-a501-05cd8eec45c0"
   },
   "outputs": [],
   "source": [
    "Y = np.array(ds['Churn'])\n",
    "X = np.array(ds[highest_corr.index.values])"
   ]
  },
  {
   "cell_type": "markdown",
   "id": "ee206a78",
   "metadata": {
    "id": "1d38f3cb-1922-4540-808e-883d59db341f"
   },
   "source": [
    "### Maintenant on peut diviser nos donnees en train et en test."
   ]
  },
  {
   "cell_type": "code",
   "execution_count": 51,
   "id": "a86af01a",
   "metadata": {
    "id": "9410f253-b973-495e-8adb-e90d28334ee7"
   },
   "outputs": [],
   "source": [
    " x_train, x_test, y_train, y_test = sklearn.model_selection.train_test_split(X,Y,test_size=0.2, random_state=5, stratify=Y)"
   ]
  },
  {
   "cell_type": "markdown",
   "id": "47b5dfbc",
   "metadata": {
    "id": "b6548de2-78b9-4ef6-89e0-c7921828a1ad"
   },
   "source": [
    "#### Sauvegarder les divers fichiers dans les fichiers txt pout la suite"
   ]
  },
  {
   "cell_type": "code",
   "execution_count": 52,
   "id": "ad1753ce",
   "metadata": {
    "id": "8ee91726-c11f-4e98-bcf8-cd6fa66e3979",
    "outputId": "7a3d6c3d-5fe0-4dc2-9faa-b70a6a42a042"
   },
   "outputs": [
    {
     "data": {
      "text/html": [
       "<div>\n",
       "<style scoped>\n",
       "    .dataframe tbody tr th:only-of-type {\n",
       "        vertical-align: middle;\n",
       "    }\n",
       "\n",
       "    .dataframe tbody tr th {\n",
       "        vertical-align: top;\n",
       "    }\n",
       "\n",
       "    .dataframe thead th {\n",
       "        text-align: right;\n",
       "    }\n",
       "</style>\n",
       "<table border=\"1\" class=\"dataframe\">\n",
       "  <thead>\n",
       "    <tr style=\"text-align: right;\">\n",
       "      <th></th>\n",
       "      <th>gender</th>\n",
       "      <th>SeniorCitizen</th>\n",
       "      <th>Partner</th>\n",
       "      <th>Dependents</th>\n",
       "      <th>tenure</th>\n",
       "      <th>PhoneService</th>\n",
       "      <th>MultipleLines</th>\n",
       "      <th>InternetService</th>\n",
       "      <th>OnlineSecurity</th>\n",
       "      <th>OnlineBackup</th>\n",
       "      <th>DeviceProtection</th>\n",
       "      <th>TechSupport</th>\n",
       "      <th>StreamingTV</th>\n",
       "      <th>StreamingMovies</th>\n",
       "      <th>Contract</th>\n",
       "      <th>PaperlessBilling</th>\n",
       "      <th>PaymentMethod</th>\n",
       "      <th>MonthlyCharges</th>\n",
       "      <th>TotalCharges</th>\n",
       "      <th>Churn</th>\n",
       "    </tr>\n",
       "  </thead>\n",
       "  <tbody>\n",
       "    <tr>\n",
       "      <th>0</th>\n",
       "      <td>1</td>\n",
       "      <td>0</td>\n",
       "      <td>0</td>\n",
       "      <td>1</td>\n",
       "      <td>1</td>\n",
       "      <td>1</td>\n",
       "      <td>-1</td>\n",
       "      <td>0</td>\n",
       "      <td>1</td>\n",
       "      <td>0</td>\n",
       "      <td>1</td>\n",
       "      <td>1</td>\n",
       "      <td>1</td>\n",
       "      <td>1</td>\n",
       "      <td>0</td>\n",
       "      <td>0</td>\n",
       "      <td>-1</td>\n",
       "      <td>29.85</td>\n",
       "      <td>29.85</td>\n",
       "      <td>1</td>\n",
       "    </tr>\n",
       "    <tr>\n",
       "      <th>1</th>\n",
       "      <td>0</td>\n",
       "      <td>0</td>\n",
       "      <td>1</td>\n",
       "      <td>1</td>\n",
       "      <td>34</td>\n",
       "      <td>0</td>\n",
       "      <td>1</td>\n",
       "      <td>0</td>\n",
       "      <td>0</td>\n",
       "      <td>1</td>\n",
       "      <td>0</td>\n",
       "      <td>1</td>\n",
       "      <td>1</td>\n",
       "      <td>1</td>\n",
       "      <td>1</td>\n",
       "      <td>1</td>\n",
       "      <td>0</td>\n",
       "      <td>56.95</td>\n",
       "      <td>1889.50</td>\n",
       "      <td>1</td>\n",
       "    </tr>\n",
       "    <tr>\n",
       "      <th>2</th>\n",
       "      <td>0</td>\n",
       "      <td>0</td>\n",
       "      <td>1</td>\n",
       "      <td>1</td>\n",
       "      <td>2</td>\n",
       "      <td>0</td>\n",
       "      <td>1</td>\n",
       "      <td>0</td>\n",
       "      <td>0</td>\n",
       "      <td>0</td>\n",
       "      <td>1</td>\n",
       "      <td>1</td>\n",
       "      <td>1</td>\n",
       "      <td>1</td>\n",
       "      <td>0</td>\n",
       "      <td>0</td>\n",
       "      <td>0</td>\n",
       "      <td>53.85</td>\n",
       "      <td>108.15</td>\n",
       "      <td>0</td>\n",
       "    </tr>\n",
       "    <tr>\n",
       "      <th>3</th>\n",
       "      <td>0</td>\n",
       "      <td>0</td>\n",
       "      <td>1</td>\n",
       "      <td>1</td>\n",
       "      <td>45</td>\n",
       "      <td>1</td>\n",
       "      <td>-1</td>\n",
       "      <td>0</td>\n",
       "      <td>0</td>\n",
       "      <td>1</td>\n",
       "      <td>0</td>\n",
       "      <td>0</td>\n",
       "      <td>1</td>\n",
       "      <td>1</td>\n",
       "      <td>1</td>\n",
       "      <td>1</td>\n",
       "      <td>1</td>\n",
       "      <td>42.30</td>\n",
       "      <td>1840.75</td>\n",
       "      <td>1</td>\n",
       "    </tr>\n",
       "    <tr>\n",
       "      <th>4</th>\n",
       "      <td>1</td>\n",
       "      <td>0</td>\n",
       "      <td>1</td>\n",
       "      <td>1</td>\n",
       "      <td>2</td>\n",
       "      <td>0</td>\n",
       "      <td>1</td>\n",
       "      <td>-1</td>\n",
       "      <td>1</td>\n",
       "      <td>1</td>\n",
       "      <td>1</td>\n",
       "      <td>1</td>\n",
       "      <td>1</td>\n",
       "      <td>1</td>\n",
       "      <td>0</td>\n",
       "      <td>0</td>\n",
       "      <td>-1</td>\n",
       "      <td>70.70</td>\n",
       "      <td>151.65</td>\n",
       "      <td>0</td>\n",
       "    </tr>\n",
       "    <tr>\n",
       "      <th>...</th>\n",
       "      <td>...</td>\n",
       "      <td>...</td>\n",
       "      <td>...</td>\n",
       "      <td>...</td>\n",
       "      <td>...</td>\n",
       "      <td>...</td>\n",
       "      <td>...</td>\n",
       "      <td>...</td>\n",
       "      <td>...</td>\n",
       "      <td>...</td>\n",
       "      <td>...</td>\n",
       "      <td>...</td>\n",
       "      <td>...</td>\n",
       "      <td>...</td>\n",
       "      <td>...</td>\n",
       "      <td>...</td>\n",
       "      <td>...</td>\n",
       "      <td>...</td>\n",
       "      <td>...</td>\n",
       "      <td>...</td>\n",
       "    </tr>\n",
       "    <tr>\n",
       "      <th>7038</th>\n",
       "      <td>0</td>\n",
       "      <td>0</td>\n",
       "      <td>0</td>\n",
       "      <td>0</td>\n",
       "      <td>24</td>\n",
       "      <td>0</td>\n",
       "      <td>0</td>\n",
       "      <td>0</td>\n",
       "      <td>0</td>\n",
       "      <td>1</td>\n",
       "      <td>0</td>\n",
       "      <td>0</td>\n",
       "      <td>0</td>\n",
       "      <td>0</td>\n",
       "      <td>1</td>\n",
       "      <td>0</td>\n",
       "      <td>0</td>\n",
       "      <td>84.80</td>\n",
       "      <td>1990.50</td>\n",
       "      <td>1</td>\n",
       "    </tr>\n",
       "    <tr>\n",
       "      <th>7039</th>\n",
       "      <td>1</td>\n",
       "      <td>0</td>\n",
       "      <td>0</td>\n",
       "      <td>0</td>\n",
       "      <td>72</td>\n",
       "      <td>0</td>\n",
       "      <td>0</td>\n",
       "      <td>-1</td>\n",
       "      <td>1</td>\n",
       "      <td>0</td>\n",
       "      <td>0</td>\n",
       "      <td>1</td>\n",
       "      <td>0</td>\n",
       "      <td>0</td>\n",
       "      <td>1</td>\n",
       "      <td>0</td>\n",
       "      <td>2</td>\n",
       "      <td>103.20</td>\n",
       "      <td>7362.90</td>\n",
       "      <td>1</td>\n",
       "    </tr>\n",
       "    <tr>\n",
       "      <th>7040</th>\n",
       "      <td>1</td>\n",
       "      <td>0</td>\n",
       "      <td>0</td>\n",
       "      <td>0</td>\n",
       "      <td>11</td>\n",
       "      <td>1</td>\n",
       "      <td>-1</td>\n",
       "      <td>0</td>\n",
       "      <td>0</td>\n",
       "      <td>1</td>\n",
       "      <td>1</td>\n",
       "      <td>1</td>\n",
       "      <td>1</td>\n",
       "      <td>1</td>\n",
       "      <td>0</td>\n",
       "      <td>0</td>\n",
       "      <td>-1</td>\n",
       "      <td>29.60</td>\n",
       "      <td>346.45</td>\n",
       "      <td>1</td>\n",
       "    </tr>\n",
       "    <tr>\n",
       "      <th>7041</th>\n",
       "      <td>0</td>\n",
       "      <td>1</td>\n",
       "      <td>0</td>\n",
       "      <td>1</td>\n",
       "      <td>4</td>\n",
       "      <td>0</td>\n",
       "      <td>0</td>\n",
       "      <td>-1</td>\n",
       "      <td>1</td>\n",
       "      <td>1</td>\n",
       "      <td>1</td>\n",
       "      <td>1</td>\n",
       "      <td>1</td>\n",
       "      <td>1</td>\n",
       "      <td>0</td>\n",
       "      <td>0</td>\n",
       "      <td>0</td>\n",
       "      <td>74.40</td>\n",
       "      <td>306.60</td>\n",
       "      <td>0</td>\n",
       "    </tr>\n",
       "    <tr>\n",
       "      <th>7042</th>\n",
       "      <td>0</td>\n",
       "      <td>0</td>\n",
       "      <td>1</td>\n",
       "      <td>1</td>\n",
       "      <td>66</td>\n",
       "      <td>0</td>\n",
       "      <td>1</td>\n",
       "      <td>-1</td>\n",
       "      <td>0</td>\n",
       "      <td>1</td>\n",
       "      <td>0</td>\n",
       "      <td>0</td>\n",
       "      <td>0</td>\n",
       "      <td>0</td>\n",
       "      <td>-1</td>\n",
       "      <td>0</td>\n",
       "      <td>1</td>\n",
       "      <td>105.65</td>\n",
       "      <td>6844.50</td>\n",
       "      <td>1</td>\n",
       "    </tr>\n",
       "  </tbody>\n",
       "</table>\n",
       "<p>7043 rows × 20 columns</p>\n",
       "</div>"
      ],
      "text/plain": [
       "      gender  SeniorCitizen  Partner  Dependents  tenure  PhoneService  \\\n",
       "0          1              0        0           1       1             1   \n",
       "1          0              0        1           1      34             0   \n",
       "2          0              0        1           1       2             0   \n",
       "3          0              0        1           1      45             1   \n",
       "4          1              0        1           1       2             0   \n",
       "...      ...            ...      ...         ...     ...           ...   \n",
       "7038       0              0        0           0      24             0   \n",
       "7039       1              0        0           0      72             0   \n",
       "7040       1              0        0           0      11             1   \n",
       "7041       0              1        0           1       4             0   \n",
       "7042       0              0        1           1      66             0   \n",
       "\n",
       "      MultipleLines  InternetService  OnlineSecurity  OnlineBackup  \\\n",
       "0                -1                0               1             0   \n",
       "1                 1                0               0             1   \n",
       "2                 1                0               0             0   \n",
       "3                -1                0               0             1   \n",
       "4                 1               -1               1             1   \n",
       "...             ...              ...             ...           ...   \n",
       "7038              0                0               0             1   \n",
       "7039              0               -1               1             0   \n",
       "7040             -1                0               0             1   \n",
       "7041              0               -1               1             1   \n",
       "7042              1               -1               0             1   \n",
       "\n",
       "      DeviceProtection  TechSupport  StreamingTV  StreamingMovies  Contract  \\\n",
       "0                    1            1            1                1         0   \n",
       "1                    0            1            1                1         1   \n",
       "2                    1            1            1                1         0   \n",
       "3                    0            0            1                1         1   \n",
       "4                    1            1            1                1         0   \n",
       "...                ...          ...          ...              ...       ...   \n",
       "7038                 0            0            0                0         1   \n",
       "7039                 0            1            0                0         1   \n",
       "7040                 1            1            1                1         0   \n",
       "7041                 1            1            1                1         0   \n",
       "7042                 0            0            0                0        -1   \n",
       "\n",
       "      PaperlessBilling  PaymentMethod  MonthlyCharges  TotalCharges  Churn  \n",
       "0                    0             -1           29.85         29.85      1  \n",
       "1                    1              0           56.95       1889.50      1  \n",
       "2                    0              0           53.85        108.15      0  \n",
       "3                    1              1           42.30       1840.75      1  \n",
       "4                    0             -1           70.70        151.65      0  \n",
       "...                ...            ...             ...           ...    ...  \n",
       "7038                 0              0           84.80       1990.50      1  \n",
       "7039                 0              2          103.20       7362.90      1  \n",
       "7040                 0             -1           29.60        346.45      1  \n",
       "7041                 0              0           74.40        306.60      0  \n",
       "7042                 0              1          105.65       6844.50      1  \n",
       "\n",
       "[7043 rows x 20 columns]"
      ]
     },
     "execution_count": 52,
     "metadata": {},
     "output_type": "execute_result"
    }
   ],
   "source": [
    "np.savetxt(\"xtrain.txt\", x_train)\n",
    "np.savetxt(\"xtest.txt\", x_test)\n",
    "np.savetxt(\"ytrain.txt\", y_train)\n",
    "np.savetxt(\"ytest.txt\", y_test)\n",
    "np.save\n",
    "ds"
   ]
  },
  {
   "cell_type": "markdown",
   "id": "a72c9f45",
   "metadata": {
    "id": "5b18ae7c-c9c9-486b-808c-7309801e45af"
   },
   "source": [
    "### Construction du classificateur de réseau de neurones"
   ]
  },
  {
   "cell_type": "code",
   "execution_count": 53,
   "id": "8cc91a45",
   "metadata": {
    "id": "b9971aa1-bf6f-4558-bcc5-1a0315fa6f29"
   },
   "outputs": [],
   "source": [
    "ds = ds.dropna()\n",
    "Y = np.array(ds['Churn'])\n",
    "X = np.array(ds.loc[:, ds.columns != 'Churn'])"
   ]
  },
  {
   "cell_type": "code",
   "execution_count": 54,
   "id": "ac9cff7c",
   "metadata": {},
   "outputs": [
    {
     "data": {
      "text/html": [
       "<style>#sk-container-id-1 {color: black;background-color: white;}#sk-container-id-1 pre{padding: 0;}#sk-container-id-1 div.sk-toggleable {background-color: white;}#sk-container-id-1 label.sk-toggleable__label {cursor: pointer;display: block;width: 100%;margin-bottom: 0;padding: 0.3em;box-sizing: border-box;text-align: center;}#sk-container-id-1 label.sk-toggleable__label-arrow:before {content: \"▸\";float: left;margin-right: 0.25em;color: #696969;}#sk-container-id-1 label.sk-toggleable__label-arrow:hover:before {color: black;}#sk-container-id-1 div.sk-estimator:hover label.sk-toggleable__label-arrow:before {color: black;}#sk-container-id-1 div.sk-toggleable__content {max-height: 0;max-width: 0;overflow: hidden;text-align: left;background-color: #f0f8ff;}#sk-container-id-1 div.sk-toggleable__content pre {margin: 0.2em;color: black;border-radius: 0.25em;background-color: #f0f8ff;}#sk-container-id-1 input.sk-toggleable__control:checked~div.sk-toggleable__content {max-height: 200px;max-width: 100%;overflow: auto;}#sk-container-id-1 input.sk-toggleable__control:checked~label.sk-toggleable__label-arrow:before {content: \"▾\";}#sk-container-id-1 div.sk-estimator input.sk-toggleable__control:checked~label.sk-toggleable__label {background-color: #d4ebff;}#sk-container-id-1 div.sk-label input.sk-toggleable__control:checked~label.sk-toggleable__label {background-color: #d4ebff;}#sk-container-id-1 input.sk-hidden--visually {border: 0;clip: rect(1px 1px 1px 1px);clip: rect(1px, 1px, 1px, 1px);height: 1px;margin: -1px;overflow: hidden;padding: 0;position: absolute;width: 1px;}#sk-container-id-1 div.sk-estimator {font-family: monospace;background-color: #f0f8ff;border: 1px dotted black;border-radius: 0.25em;box-sizing: border-box;margin-bottom: 0.5em;}#sk-container-id-1 div.sk-estimator:hover {background-color: #d4ebff;}#sk-container-id-1 div.sk-parallel-item::after {content: \"\";width: 100%;border-bottom: 1px solid gray;flex-grow: 1;}#sk-container-id-1 div.sk-label:hover label.sk-toggleable__label {background-color: #d4ebff;}#sk-container-id-1 div.sk-serial::before {content: \"\";position: absolute;border-left: 1px solid gray;box-sizing: border-box;top: 0;bottom: 0;left: 50%;z-index: 0;}#sk-container-id-1 div.sk-serial {display: flex;flex-direction: column;align-items: center;background-color: white;padding-right: 0.2em;padding-left: 0.2em;position: relative;}#sk-container-id-1 div.sk-item {position: relative;z-index: 1;}#sk-container-id-1 div.sk-parallel {display: flex;align-items: stretch;justify-content: center;background-color: white;position: relative;}#sk-container-id-1 div.sk-item::before, #sk-container-id-1 div.sk-parallel-item::before {content: \"\";position: absolute;border-left: 1px solid gray;box-sizing: border-box;top: 0;bottom: 0;left: 50%;z-index: -1;}#sk-container-id-1 div.sk-parallel-item {display: flex;flex-direction: column;z-index: 1;position: relative;background-color: white;}#sk-container-id-1 div.sk-parallel-item:first-child::after {align-self: flex-end;width: 50%;}#sk-container-id-1 div.sk-parallel-item:last-child::after {align-self: flex-start;width: 50%;}#sk-container-id-1 div.sk-parallel-item:only-child::after {width: 0;}#sk-container-id-1 div.sk-dashed-wrapped {border: 1px dashed gray;margin: 0 0.4em 0.5em 0.4em;box-sizing: border-box;padding-bottom: 0.4em;background-color: white;}#sk-container-id-1 div.sk-label label {font-family: monospace;font-weight: bold;display: inline-block;line-height: 1.2em;}#sk-container-id-1 div.sk-label-container {text-align: center;}#sk-container-id-1 div.sk-container {/* jupyter's `normalize.less` sets `[hidden] { display: none; }` but bootstrap.min.css set `[hidden] { display: none !important; }` so we also need the `!important` here to be able to override the default hidden behavior on the sphinx rendered scikit-learn.org. See: https://github.com/scikit-learn/scikit-learn/issues/21755 */display: inline-block !important;position: relative;}#sk-container-id-1 div.sk-text-repr-fallback {display: none;}</style><div id=\"sk-container-id-1\" class=\"sk-top-container\"><div class=\"sk-text-repr-fallback\"><pre>StandardScaler()</pre><b>In a Jupyter environment, please rerun this cell to show the HTML representation or trust the notebook. <br />On GitHub, the HTML representation is unable to render, please try loading this page with nbviewer.org.</b></div><div class=\"sk-container\" hidden><div class=\"sk-item\"><div class=\"sk-estimator sk-toggleable\"><input class=\"sk-toggleable__control sk-hidden--visually\" id=\"sk-estimator-id-1\" type=\"checkbox\" checked><label for=\"sk-estimator-id-1\" class=\"sk-toggleable__label sk-toggleable__label-arrow\">StandardScaler</label><div class=\"sk-toggleable__content\"><pre>StandardScaler()</pre></div></div></div></div></div>"
      ],
      "text/plain": [
       "StandardScaler()"
      ]
     },
     "execution_count": 54,
     "metadata": {},
     "output_type": "execute_result"
    }
   ],
   "source": [
    "from sklearn.preprocessing import StandardScaler\n",
    "scaler = StandardScaler()\n",
    "scaler.fit(X)"
   ]
  },
  {
   "cell_type": "code",
   "execution_count": 55,
   "id": "55e2341a",
   "metadata": {},
   "outputs": [
    {
     "data": {
      "text/plain": [
       "(7032, 19)"
      ]
     },
     "execution_count": 55,
     "metadata": {},
     "output_type": "execute_result"
    }
   ],
   "source": [
    "X.shape"
   ]
  },
  {
   "cell_type": "code",
   "execution_count": 56,
   "id": "862db4c5",
   "metadata": {},
   "outputs": [
    {
     "data": {
      "text/plain": [
       "array([[ 1.00943013, -0.44032709, -1.03561683, ..., -1.14451953,\n",
       "        -1.16169394, -0.99419409],\n",
       "       [-0.99065797, -0.44032709,  0.9656081 , ..., -0.27453128,\n",
       "        -0.26087792, -0.17373982],\n",
       "       [-0.99065797, -0.44032709,  0.9656081 , ..., -0.27453128,\n",
       "        -0.36392329, -0.95964911],\n",
       "       ...,\n",
       "       [ 1.00943013, -0.44032709, -1.03561683, ..., -1.14451953,\n",
       "        -1.17000405, -0.85451414],\n",
       "       [-0.99065797,  2.27103902, -1.03561683, ..., -0.27453128,\n",
       "         0.31916782, -0.87209546],\n",
       "       [-0.99065797, -0.44032709,  0.9656081 , ...,  0.59545698,\n",
       "         1.35793167,  2.01234407]])"
      ]
     },
     "execution_count": 56,
     "metadata": {},
     "output_type": "execute_result"
    }
   ],
   "source": [
    "X_scale= scaler.fit_transform(X)\n",
    "X_scale"
   ]
  },
  {
   "cell_type": "code",
   "execution_count": 57,
   "id": "46e739d1",
   "metadata": {
    "id": "2c9bdcb5-25ed-4821-b795-e25dd255ff3b"
   },
   "outputs": [],
   "source": [
    "def train_nn (X_train, Y_train, name_model):\n",
    "    \n",
    "    #creation of the model\n",
    "    model = sklearn.neural_network.MLPClassifier(hidden_layer_sizes=(40,),\n",
    "                                                 activation='relu',\n",
    "                                                 solver='adam',\n",
    "                                                 alpha = 0.0001,\n",
    "                                                 batch_size= 'auto',\n",
    "                                                 learning_rate= 'constant',\n",
    "                                                 learning_rate_init= 0.001,\n",
    "                                                 power_t= 0.5,\n",
    "                                                 max_iter= 1000,\n",
    "                                                 shuffle= True,\n",
    "                                                 random_state= None,\n",
    "                                                 tol= 0.0001,\n",
    "                                                 verbose= True)\n",
    "    # train the model\n",
    "    \n",
    "    model.fit(X_train, Y_train)\n",
    "    \n",
    "    joblib.dump(model, name_model+ '_classifier.jbl')\n",
    "    \n",
    "    return model\n",
    "\n",
    "\n",
    "def Evaluate(model_trained,X_eval, Y_eval):\n",
    "    \n",
    "    predictions = model_trained.predict(X_eval)\n",
    "    \n",
    "    accuracy = sklearn.metrics.balanced_accuracy_score(Y_eval, predictions)\n",
    "    \n",
    "    print(\"Accuracy:{0:.2f}\".format(accuracy*100.0))\n",
    "    \n",
    "    print(\"Classification report\")\n",
    "    \n",
    "    print(sklearn.metrics.classification_report(Y_eval, predictions))\n",
    "    \n",
    "    print(\"Confusion matrix :\")\n",
    "    \n",
    "    print(sklearn.metrics.confusion_matrix(Y_eval,predictions)) \n",
    "    \n",
    "\n",
    "def trainer(X_Raw, Y_Raw, model_name):\n",
    "    \n",
    "    x_train, x_test, y_train, y_test = sklearn.model_selection.train_test_split(X_Raw, Y_Raw, test_size=0.2, random_state=5, stratify=Y)\n",
    "    \n",
    "    model= train_nn (x_train, y_train, model_name)\n",
    "    \n",
    "    print('Evaluation of the model on the training set')\n",
    "    \n",
    "    Evaluate(model,x_train, y_train)\n",
    "    \n",
    "    print('Evaluation of the model on the test set')\n",
    "    \n",
    "    Evaluate(model,x_test, y_test) "
   ]
  },
  {
   "cell_type": "code",
   "execution_count": 58,
   "id": "6d037367",
   "metadata": {
    "id": "dfdcaeab-1d09-4cee-b462-71ff6d401a10",
    "outputId": "9bb8e6f1-3f23-4690-c84b-d3b88a45c425"
   },
   "outputs": [
    {
     "name": "stdout",
     "output_type": "stream",
     "text": [
      "Iteration 1, loss = 0.52715042\n",
      "Iteration 2, loss = 0.47037028\n",
      "Iteration 3, loss = 0.45334690\n",
      "Iteration 4, loss = 0.44419002\n",
      "Iteration 5, loss = 0.43768542\n",
      "Iteration 6, loss = 0.43313992\n",
      "Iteration 7, loss = 0.42956387\n",
      "Iteration 8, loss = 0.42666701\n",
      "Iteration 9, loss = 0.42468250\n",
      "Iteration 10, loss = 0.42263444\n",
      "Iteration 11, loss = 0.42109076\n",
      "Iteration 12, loss = 0.41976406\n",
      "Iteration 13, loss = 0.41856795\n",
      "Iteration 14, loss = 0.41742735\n",
      "Iteration 15, loss = 0.41639057\n",
      "Iteration 16, loss = 0.41569226\n",
      "Iteration 17, loss = 0.41480914\n",
      "Iteration 18, loss = 0.41402083\n",
      "Iteration 19, loss = 0.41301279\n",
      "Iteration 20, loss = 0.41249505\n",
      "Iteration 21, loss = 0.41171824\n",
      "Iteration 22, loss = 0.41124515\n",
      "Iteration 23, loss = 0.41032891\n",
      "Iteration 24, loss = 0.40999745\n",
      "Iteration 25, loss = 0.40976306\n",
      "Iteration 26, loss = 0.40891969\n",
      "Iteration 27, loss = 0.40814823\n",
      "Iteration 28, loss = 0.40757952\n",
      "Iteration 29, loss = 0.40713371\n",
      "Iteration 30, loss = 0.40659596\n",
      "Iteration 31, loss = 0.40651120\n",
      "Iteration 32, loss = 0.40699314\n",
      "Iteration 33, loss = 0.40567339\n",
      "Iteration 34, loss = 0.40530241\n",
      "Iteration 35, loss = 0.40497370\n",
      "Iteration 36, loss = 0.40426826\n",
      "Iteration 37, loss = 0.40413317\n",
      "Iteration 38, loss = 0.40389222\n",
      "Iteration 39, loss = 0.40365341\n",
      "Iteration 40, loss = 0.40337972\n",
      "Iteration 41, loss = 0.40278626\n",
      "Iteration 42, loss = 0.40229735\n",
      "Iteration 43, loss = 0.40235452\n",
      "Iteration 44, loss = 0.40204924\n",
      "Iteration 45, loss = 0.40189657\n",
      "Iteration 46, loss = 0.40140935\n",
      "Iteration 47, loss = 0.40096217\n",
      "Iteration 48, loss = 0.40079121\n",
      "Iteration 49, loss = 0.40054689\n",
      "Iteration 50, loss = 0.40017936\n",
      "Iteration 51, loss = 0.40009220\n",
      "Iteration 52, loss = 0.40018781\n",
      "Iteration 53, loss = 0.39981131\n",
      "Iteration 54, loss = 0.39992998\n",
      "Iteration 55, loss = 0.39965553\n",
      "Iteration 56, loss = 0.39893323\n",
      "Iteration 57, loss = 0.39863187\n",
      "Iteration 58, loss = 0.39845287\n",
      "Iteration 59, loss = 0.39845556\n",
      "Iteration 60, loss = 0.39812305\n",
      "Iteration 61, loss = 0.39785870\n",
      "Iteration 62, loss = 0.39756748\n",
      "Iteration 63, loss = 0.39787373\n",
      "Iteration 64, loss = 0.39749339\n",
      "Iteration 65, loss = 0.39741862\n",
      "Iteration 66, loss = 0.39719218\n",
      "Iteration 67, loss = 0.39702078\n",
      "Iteration 68, loss = 0.39735032\n",
      "Iteration 69, loss = 0.39651682\n",
      "Iteration 70, loss = 0.39607531\n",
      "Iteration 71, loss = 0.39608228\n",
      "Iteration 72, loss = 0.39623654\n",
      "Iteration 73, loss = 0.39604139\n",
      "Iteration 74, loss = 0.39578198\n",
      "Iteration 75, loss = 0.39550973\n",
      "Iteration 76, loss = 0.39582985\n",
      "Iteration 77, loss = 0.39510221\n",
      "Iteration 78, loss = 0.39472519\n",
      "Iteration 79, loss = 0.39466475\n",
      "Iteration 80, loss = 0.39443003\n",
      "Iteration 81, loss = 0.39469318\n",
      "Iteration 82, loss = 0.39430228\n",
      "Iteration 83, loss = 0.39413686\n",
      "Iteration 84, loss = 0.39411341\n",
      "Iteration 85, loss = 0.39353468\n",
      "Iteration 86, loss = 0.39342387\n",
      "Iteration 87, loss = 0.39343000\n",
      "Iteration 88, loss = 0.39305703\n",
      "Iteration 89, loss = 0.39331325\n",
      "Iteration 90, loss = 0.39359175\n",
      "Iteration 91, loss = 0.39307126\n",
      "Iteration 92, loss = 0.39248088\n",
      "Iteration 93, loss = 0.39269450\n",
      "Iteration 94, loss = 0.39236928\n",
      "Iteration 95, loss = 0.39215158\n",
      "Iteration 96, loss = 0.39208922\n",
      "Iteration 97, loss = 0.39184095\n",
      "Iteration 98, loss = 0.39170472\n",
      "Iteration 99, loss = 0.39178252\n",
      "Iteration 100, loss = 0.39127891\n",
      "Iteration 101, loss = 0.39179315\n",
      "Iteration 102, loss = 0.39106941\n",
      "Iteration 103, loss = 0.39095421\n",
      "Iteration 104, loss = 0.39126909\n",
      "Iteration 105, loss = 0.39108749\n",
      "Iteration 106, loss = 0.39062369\n",
      "Iteration 107, loss = 0.39027844\n",
      "Iteration 108, loss = 0.39047985\n",
      "Iteration 109, loss = 0.39052006\n",
      "Iteration 110, loss = 0.38995077\n",
      "Iteration 111, loss = 0.38993843\n",
      "Iteration 112, loss = 0.38985276\n",
      "Iteration 113, loss = 0.38953958\n",
      "Iteration 114, loss = 0.38966296\n",
      "Iteration 115, loss = 0.38933443\n",
      "Iteration 116, loss = 0.38895855\n",
      "Iteration 117, loss = 0.38883735\n",
      "Iteration 118, loss = 0.38949577\n",
      "Iteration 119, loss = 0.38904979\n",
      "Iteration 120, loss = 0.38934028\n",
      "Iteration 121, loss = 0.38835656\n",
      "Iteration 122, loss = 0.38851976\n",
      "Iteration 123, loss = 0.38811094\n",
      "Iteration 124, loss = 0.38773842\n",
      "Iteration 125, loss = 0.38785837\n",
      "Iteration 126, loss = 0.38807461\n",
      "Iteration 127, loss = 0.38777507\n",
      "Iteration 128, loss = 0.38783438\n",
      "Iteration 129, loss = 0.38735252\n",
      "Iteration 130, loss = 0.38727694\n",
      "Iteration 131, loss = 0.38768284\n",
      "Iteration 132, loss = 0.38714322\n",
      "Iteration 133, loss = 0.38685096\n",
      "Iteration 134, loss = 0.38668437\n",
      "Iteration 135, loss = 0.38672597\n",
      "Iteration 136, loss = 0.38644785\n",
      "Iteration 137, loss = 0.38661330\n",
      "Iteration 138, loss = 0.38687418\n",
      "Iteration 139, loss = 0.38611410\n",
      "Iteration 140, loss = 0.38678007\n",
      "Iteration 141, loss = 0.38613018\n",
      "Iteration 142, loss = 0.38590871\n",
      "Iteration 143, loss = 0.38592014\n",
      "Iteration 144, loss = 0.38603390\n",
      "Iteration 145, loss = 0.38619650\n",
      "Iteration 146, loss = 0.38561134\n",
      "Iteration 147, loss = 0.38549822\n",
      "Iteration 148, loss = 0.38538053\n",
      "Iteration 149, loss = 0.38521060\n",
      "Iteration 150, loss = 0.38544455\n",
      "Iteration 151, loss = 0.38533823\n",
      "Iteration 152, loss = 0.38498059\n",
      "Iteration 153, loss = 0.38446340\n",
      "Iteration 154, loss = 0.38458631\n",
      "Iteration 155, loss = 0.38451501\n",
      "Iteration 156, loss = 0.38571071\n",
      "Iteration 157, loss = 0.38419290\n",
      "Iteration 158, loss = 0.38390868\n",
      "Iteration 159, loss = 0.38403833\n",
      "Iteration 160, loss = 0.38356643\n",
      "Iteration 161, loss = 0.38418699\n",
      "Iteration 162, loss = 0.38362870\n",
      "Iteration 163, loss = 0.38310066\n",
      "Iteration 164, loss = 0.38394042\n",
      "Iteration 165, loss = 0.38317509\n",
      "Iteration 166, loss = 0.38352506\n",
      "Iteration 167, loss = 0.38335275\n",
      "Iteration 168, loss = 0.38314823\n",
      "Iteration 169, loss = 0.38284149\n",
      "Iteration 170, loss = 0.38318607\n",
      "Iteration 171, loss = 0.38270647\n",
      "Iteration 172, loss = 0.38262781\n",
      "Iteration 173, loss = 0.38355237\n",
      "Iteration 174, loss = 0.38266025\n",
      "Iteration 175, loss = 0.38243022\n",
      "Iteration 176, loss = 0.38234666\n",
      "Iteration 177, loss = 0.38207226\n",
      "Iteration 178, loss = 0.38247661\n",
      "Iteration 179, loss = 0.38172725\n",
      "Iteration 180, loss = 0.38203435\n",
      "Iteration 181, loss = 0.38282605\n",
      "Iteration 182, loss = 0.38169701\n",
      "Iteration 183, loss = 0.38153567\n",
      "Iteration 184, loss = 0.38128684\n",
      "Iteration 185, loss = 0.38116780\n",
      "Iteration 186, loss = 0.38095351\n",
      "Iteration 187, loss = 0.38122470\n",
      "Iteration 188, loss = 0.38194763\n",
      "Iteration 189, loss = 0.38094626\n",
      "Iteration 190, loss = 0.38221433\n",
      "Iteration 191, loss = 0.38198649\n",
      "Iteration 192, loss = 0.38051901\n",
      "Iteration 193, loss = 0.38010126\n",
      "Iteration 194, loss = 0.38028999\n",
      "Iteration 195, loss = 0.38021818\n",
      "Iteration 196, loss = 0.38087032\n",
      "Iteration 197, loss = 0.38082605\n",
      "Iteration 198, loss = 0.38008189\n",
      "Iteration 199, loss = 0.37976571\n",
      "Iteration 200, loss = 0.37950097\n",
      "Iteration 201, loss = 0.37947728\n",
      "Iteration 202, loss = 0.37942297\n",
      "Iteration 203, loss = 0.37994980\n",
      "Iteration 204, loss = 0.38050401\n",
      "Iteration 205, loss = 0.37977798\n",
      "Iteration 206, loss = 0.37901043\n",
      "Iteration 207, loss = 0.37893309\n",
      "Iteration 208, loss = 0.37903356\n",
      "Iteration 209, loss = 0.37963899\n",
      "Iteration 210, loss = 0.37923567\n",
      "Iteration 211, loss = 0.37824092\n",
      "Iteration 212, loss = 0.37832864\n",
      "Iteration 213, loss = 0.37816263\n",
      "Iteration 214, loss = 0.37852517\n",
      "Iteration 215, loss = 0.37869349\n",
      "Iteration 216, loss = 0.37869396\n",
      "Iteration 217, loss = 0.37776255\n",
      "Iteration 218, loss = 0.37746506\n",
      "Iteration 219, loss = 0.37739327\n",
      "Iteration 220, loss = 0.37712591\n",
      "Iteration 221, loss = 0.37812423\n",
      "Iteration 222, loss = 0.37718763\n",
      "Iteration 223, loss = 0.37711418\n",
      "Iteration 224, loss = 0.37830564\n",
      "Iteration 225, loss = 0.37712024\n",
      "Iteration 226, loss = 0.37661314\n",
      "Iteration 227, loss = 0.37700158\n",
      "Iteration 228, loss = 0.37686368\n",
      "Iteration 229, loss = 0.37679452\n",
      "Iteration 230, loss = 0.37612838\n",
      "Iteration 231, loss = 0.37615531\n",
      "Iteration 232, loss = 0.37706155\n",
      "Iteration 233, loss = 0.37591449\n",
      "Iteration 234, loss = 0.37606618\n",
      "Iteration 235, loss = 0.37607678\n",
      "Iteration 236, loss = 0.37592802\n",
      "Iteration 237, loss = 0.37570231\n",
      "Iteration 238, loss = 0.37626432\n",
      "Iteration 239, loss = 0.37550314\n",
      "Iteration 240, loss = 0.37533048\n",
      "Iteration 241, loss = 0.37533731\n",
      "Iteration 242, loss = 0.37482667\n",
      "Iteration 243, loss = 0.37504714\n",
      "Iteration 244, loss = 0.37500165\n",
      "Iteration 245, loss = 0.37584248\n",
      "Iteration 246, loss = 0.37598825\n",
      "Iteration 247, loss = 0.37590617\n",
      "Iteration 248, loss = 0.37487335\n",
      "Iteration 249, loss = 0.37439549\n",
      "Iteration 250, loss = 0.37460630\n",
      "Iteration 251, loss = 0.37578796\n",
      "Iteration 252, loss = 0.37437138\n",
      "Iteration 253, loss = 0.37391092\n",
      "Iteration 254, loss = 0.37427081\n",
      "Iteration 255, loss = 0.37416361\n",
      "Iteration 256, loss = 0.37468595\n",
      "Iteration 257, loss = 0.37421082\n",
      "Iteration 258, loss = 0.37367323\n",
      "Iteration 259, loss = 0.37442053\n",
      "Iteration 260, loss = 0.37381899\n",
      "Iteration 261, loss = 0.37350839\n",
      "Iteration 262, loss = 0.37341831\n",
      "Iteration 263, loss = 0.37285981\n",
      "Iteration 264, loss = 0.37287673\n",
      "Iteration 265, loss = 0.37289459\n",
      "Iteration 266, loss = 0.37348448\n",
      "Iteration 267, loss = 0.37247537\n",
      "Iteration 268, loss = 0.37236335\n",
      "Iteration 269, loss = 0.37315612\n",
      "Iteration 270, loss = 0.37392485\n",
      "Iteration 271, loss = 0.37238688\n",
      "Iteration 272, loss = 0.37334911\n",
      "Iteration 273, loss = 0.37240364\n",
      "Iteration 274, loss = 0.37206048\n",
      "Iteration 275, loss = 0.37175379\n",
      "Iteration 276, loss = 0.37186288\n",
      "Iteration 277, loss = 0.37164305\n",
      "Iteration 278, loss = 0.37226331\n",
      "Iteration 279, loss = 0.37136714\n",
      "Iteration 280, loss = 0.37100693\n",
      "Iteration 281, loss = 0.37113292\n",
      "Iteration 282, loss = 0.37213725\n",
      "Iteration 283, loss = 0.37122305\n",
      "Iteration 284, loss = 0.37083716\n",
      "Iteration 285, loss = 0.37036845\n",
      "Iteration 286, loss = 0.37093324\n",
      "Iteration 287, loss = 0.37072309\n",
      "Iteration 288, loss = 0.37022873\n",
      "Iteration 289, loss = 0.37081197\n",
      "Iteration 290, loss = 0.37176831\n",
      "Iteration 291, loss = 0.37091480\n",
      "Iteration 292, loss = 0.37018750\n",
      "Iteration 293, loss = 0.37047905\n",
      "Iteration 294, loss = 0.36978987\n",
      "Iteration 295, loss = 0.37027419\n",
      "Iteration 296, loss = 0.37004348\n",
      "Iteration 297, loss = 0.36998448\n",
      "Iteration 298, loss = 0.37024137\n",
      "Iteration 299, loss = 0.36996467\n",
      "Iteration 300, loss = 0.36950169\n",
      "Iteration 301, loss = 0.37054061\n",
      "Iteration 302, loss = 0.37038077\n",
      "Iteration 303, loss = 0.36956056\n",
      "Iteration 304, loss = 0.36919115\n",
      "Iteration 305, loss = 0.36923250\n",
      "Iteration 306, loss = 0.36896177\n",
      "Iteration 307, loss = 0.36973621\n",
      "Iteration 308, loss = 0.36935732\n",
      "Iteration 309, loss = 0.36900752\n",
      "Iteration 310, loss = 0.36902345\n",
      "Iteration 311, loss = 0.36888508\n",
      "Iteration 312, loss = 0.36853290\n",
      "Iteration 313, loss = 0.36831388\n",
      "Iteration 314, loss = 0.36876658\n",
      "Iteration 315, loss = 0.36846686\n",
      "Iteration 316, loss = 0.36920997\n",
      "Iteration 317, loss = 0.36871741\n",
      "Iteration 318, loss = 0.36781028\n",
      "Iteration 319, loss = 0.36774014\n",
      "Iteration 320, loss = 0.36770451\n",
      "Iteration 321, loss = 0.36736620\n",
      "Iteration 322, loss = 0.36722960\n",
      "Iteration 323, loss = 0.36715788\n",
      "Iteration 324, loss = 0.36782378\n",
      "Iteration 325, loss = 0.36782822\n",
      "Iteration 326, loss = 0.36715218\n",
      "Iteration 327, loss = 0.36677433\n",
      "Iteration 328, loss = 0.36727569\n",
      "Iteration 329, loss = 0.36679343\n",
      "Iteration 330, loss = 0.36690497\n",
      "Iteration 331, loss = 0.36823338\n",
      "Iteration 332, loss = 0.36593514\n",
      "Iteration 333, loss = 0.36664842\n",
      "Iteration 334, loss = 0.36613739\n",
      "Iteration 335, loss = 0.36616391\n",
      "Iteration 336, loss = 0.36621293\n",
      "Iteration 337, loss = 0.36643210\n",
      "Iteration 338, loss = 0.36555309\n",
      "Iteration 339, loss = 0.36593083\n",
      "Iteration 340, loss = 0.36615104\n",
      "Iteration 341, loss = 0.36611274\n",
      "Iteration 342, loss = 0.36667264\n",
      "Iteration 343, loss = 0.36578224\n",
      "Iteration 344, loss = 0.36603970\n",
      "Iteration 345, loss = 0.36520763\n",
      "Iteration 346, loss = 0.36581820\n",
      "Iteration 347, loss = 0.36660840\n",
      "Iteration 348, loss = 0.36544018\n",
      "Iteration 349, loss = 0.36499188\n",
      "Iteration 350, loss = 0.36536434\n",
      "Iteration 351, loss = 0.36498789\n",
      "Iteration 352, loss = 0.36493590\n",
      "Iteration 353, loss = 0.36485324\n",
      "Iteration 354, loss = 0.36622191\n",
      "Iteration 355, loss = 0.36504435\n",
      "Iteration 356, loss = 0.36498511\n",
      "Iteration 357, loss = 0.36435421\n",
      "Iteration 358, loss = 0.36405427\n",
      "Iteration 359, loss = 0.36542951\n",
      "Iteration 360, loss = 0.36440778\n",
      "Iteration 361, loss = 0.36457149\n",
      "Iteration 362, loss = 0.36380532\n",
      "Iteration 363, loss = 0.36397664\n",
      "Iteration 364, loss = 0.36405644\n",
      "Iteration 365, loss = 0.36388877\n",
      "Iteration 366, loss = 0.36428125\n",
      "Iteration 367, loss = 0.36468521\n",
      "Iteration 368, loss = 0.36336829\n",
      "Iteration 369, loss = 0.36341289\n",
      "Iteration 370, loss = 0.36334725\n",
      "Iteration 371, loss = 0.36323540\n",
      "Iteration 372, loss = 0.36411715\n",
      "Iteration 373, loss = 0.36286497\n",
      "Iteration 374, loss = 0.36318360\n",
      "Iteration 375, loss = 0.36240426\n",
      "Iteration 376, loss = 0.36383174\n",
      "Iteration 377, loss = 0.36314531\n",
      "Iteration 378, loss = 0.36308374\n",
      "Iteration 379, loss = 0.36328796\n",
      "Iteration 380, loss = 0.36276444\n",
      "Iteration 381, loss = 0.36340805\n",
      "Iteration 382, loss = 0.36271113\n",
      "Iteration 383, loss = 0.36237238\n",
      "Iteration 384, loss = 0.36337672\n",
      "Iteration 385, loss = 0.36288846\n",
      "Iteration 386, loss = 0.36233293\n",
      "Training loss did not improve more than tol=0.000100 for 10 consecutive epochs. Stopping.\n",
      "Evaluation of the model on the training set\n",
      "Accuracy:76.59\n",
      "Classification report\n",
      "              precision    recall  f1-score   support\n",
      "\n",
      "           0       0.73      0.61      0.67      1495\n",
      "           1       0.87      0.92      0.89      4130\n",
      "\n",
      "    accuracy                           0.84      5625\n",
      "   macro avg       0.80      0.77      0.78      5625\n",
      "weighted avg       0.83      0.84      0.83      5625\n",
      "\n",
      "Confusion matrix :\n",
      "[[ 918  577]\n",
      " [ 340 3790]]\n",
      "Evaluation of the model on the test set\n",
      "Accuracy:71.71\n",
      "Classification report\n",
      "              precision    recall  f1-score   support\n",
      "\n",
      "           0       0.62      0.56      0.59       374\n",
      "           1       0.85      0.88      0.86      1033\n",
      "\n",
      "    accuracy                           0.79      1407\n",
      "   macro avg       0.73      0.72      0.72      1407\n",
      "weighted avg       0.79      0.79      0.79      1407\n",
      "\n",
      "Confusion matrix :\n",
      "[[208 166]\n",
      " [126 907]]\n"
     ]
    }
   ],
   "source": [
    "trainer(X_scale, Y,'model')"
   ]
  },
  {
   "cell_type": "markdown",
   "id": "46827930",
   "metadata": {
    "id": "f4e15964-b2d9-45ee-ae38-cd75582c9cbe"
   },
   "source": [
    "# On va maintenant construire un modele basee sur la regression logistique \n",
    "\n",
    "La regression logistique est un algorithme pour la classification binaire"
   ]
  },
  {
   "cell_type": "code",
   "execution_count": 59,
   "id": "f147c290",
   "metadata": {
    "id": "9e5df49b-ab66-4550-9767-1fe20856d60f"
   },
   "outputs": [],
   "source": [
    "def train_lgr (X_train, Y_train, name_model):\n",
    "    \n",
    "    #creation of the model\n",
    "    model =LGR(class_weight={1:0.73})\n",
    "    # train the model\n",
    "    \n",
    "    model.fit(X_train, Y_train)\n",
    "    \n",
    "    joblib.dump(model, name_model+ '_classifier.jbl')\n",
    "    \n",
    "    return model"
   ]
  },
  {
   "cell_type": "code",
   "execution_count": 60,
   "id": "74adfdb4",
   "metadata": {
    "id": "3ffcb54b-578b-450d-b7ff-b2b20955c968"
   },
   "outputs": [],
   "source": [
    "\n",
    "def trainer_lgr(X_Raw, Y_Raw, model_name):\n",
    "    \n",
    "    x_train, x_test, y_train, y_test = sklearn.model_selection.train_test_split(X_Raw, Y_Raw, test_size=0.2, random_state=5, stratify=Y)\n",
    "    \n",
    "    model= train_lgr (x_train, y_train, model_name)\n",
    "    \n",
    "    print('Evaluation of the model on the training set')\n",
    "    \n",
    "    Evaluate(model,x_train, y_train)\n",
    "    \n",
    "    print('Evaluation of the model on the test set')\n",
    "    \n",
    "    Evaluate(model,x_test, y_test) "
   ]
  },
  {
   "cell_type": "code",
   "execution_count": 61,
   "id": "157f0999",
   "metadata": {
    "id": "96cc17f7-f406-4704-af0c-4f47c84e3847",
    "outputId": "39daa60e-4043-4b29-ae80-df2333eb704d"
   },
   "outputs": [
    {
     "name": "stdout",
     "output_type": "stream",
     "text": [
      "Evaluation of the model on the training set\n",
      "Accuracy:74.02\n",
      "Classification report\n",
      "              precision    recall  f1-score   support\n",
      "\n",
      "           0       0.62      0.62      0.62      1495\n",
      "           1       0.86      0.86      0.86      4130\n",
      "\n",
      "    accuracy                           0.80      5625\n",
      "   macro avg       0.74      0.74      0.74      5625\n",
      "weighted avg       0.80      0.80      0.80      5625\n",
      "\n",
      "Confusion matrix :\n",
      "[[ 926  569]\n",
      " [ 574 3556]]\n",
      "Evaluation of the model on the test set\n",
      "Accuracy:73.76\n",
      "Classification report\n",
      "              precision    recall  f1-score   support\n",
      "\n",
      "           0       0.61      0.62      0.61       374\n",
      "           1       0.86      0.85      0.86      1033\n",
      "\n",
      "    accuracy                           0.79      1407\n",
      "   macro avg       0.73      0.74      0.74      1407\n",
      "weighted avg       0.79      0.79      0.79      1407\n",
      "\n",
      "Confusion matrix :\n",
      "[[232 142]\n",
      " [150 883]]\n"
     ]
    }
   ],
   "source": [
    "trainer_lgr(X_scale,Y,'model_lgr')"
   ]
  },
  {
   "cell_type": "code",
   "execution_count": null,
   "id": "a0ede0a4",
   "metadata": {
    "id": "0bac5965-8978-4dc2-98c5-2df113650211"
   },
   "outputs": [],
   "source": []
  }
 ],
 "metadata": {
  "colab": {
   "name": "analyse_exploratoire_des_donnees (4).ipynb",
   "provenance": []
  },
  "kernelspec": {
   "display_name": "Python 3 (ipykernel)",
   "language": "python",
   "name": "python3"
  },
  "language_info": {
   "codemirror_mode": {
    "name": "ipython",
    "version": 3
   },
   "file_extension": ".py",
   "mimetype": "text/x-python",
   "name": "python",
   "nbconvert_exporter": "python",
   "pygments_lexer": "ipython3",
   "version": "3.8.10"
  }
 },
 "nbformat": 4,
 "nbformat_minor": 5
}
